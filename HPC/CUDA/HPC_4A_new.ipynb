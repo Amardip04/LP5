{
 "cells": [
  {
   "cell_type": "code",
   "execution_count": 13,
   "metadata": {
    "colab": {
     "base_uri": "https://localhost:8080/"
    },
    "id": "lSL6xfqZS3hh",
    "outputId": "dbc60002-0573-4c34-b116-a0c89b65a2f3"
   },
   "outputs": [
    {
     "name": "stdout",
     "output_type": "stream",
     "text": [
      "/bin/bash: line 1: nvcc: command not found\r\n"
     ]
    }
   ],
   "source": [
    "!nvcc --version"
   ]
  },
  {
   "cell_type": "code",
   "execution_count": 14,
   "metadata": {
    "id": "iQ-2Wa7vSeu8"
   },
   "outputs": [],
   "source": [
    "code = \"\"\"\n",
    "\n",
    "#include <stdio.h>\n",
    "#include <stdlib.h>\n",
    "\n",
    "#define N 1000000\n",
    "\n",
    "__global__ void add(int *a, int *b, int *c) {\n",
    "    int tid = blockIdx.x * blockDim.x + threadIdx.x;\n",
    "    if (tid < N) {\n",
    "        c[tid] = a[tid] + b[tid];\n",
    "    }\n",
    "}\n",
    "\n",
    "int main() {\n",
    "    int *a, *b, *c;\n",
    "    int *d_a, *d_b, *d_c;\n",
    "    int size = N * sizeof(int);\n",
    "\n",
    "    // Allocate memory on host\n",
    "    a = (int*)malloc(size);\n",
    "    b = (int*)malloc(size);\n",
    "    c = (int*)malloc(size);\n",
    "\n",
    "    // Initialize arrays\n",
    "    for (int i = 0; i < N; i++) {\n",
    "        a[i] = i;\n",
    "        b[i] = i * 2;\n",
    "    }\n",
    "\n",
    "    // Allocate memory on device\n",
    "    cudaMalloc(&d_a, size);\n",
    "    cudaMalloc(&d_b, size);\n",
    "    cudaMalloc(&d_c, size);\n",
    "\n",
    "    // Copy data from host to device\n",
    "    cudaMemcpy(d_a, a, size, cudaMemcpyHostToDevice);\n",
    "    cudaMemcpy(d_b, b, size, cudaMemcpyHostToDevice);\n",
    "\n",
    "    // Launch kernel with 1 million threads\n",
    "    add<<<(N + 255) / 256, 256>>>(d_a, d_b, d_c);\n",
    "\n",
    "    // Copy result from device to host\n",
    "    cudaMemcpy(c, d_c, size, cudaMemcpyDeviceToHost);\n",
    "\n",
    "    // Print first and last elements of result\n",
    "    printf(\"c[0]=%d, c[%d] = %d\",c[0],N-1,c[N-1]);\n",
    "\n",
    "    // Free memory\n",
    "    free(a);\n",
    "    free(b);\n",
    "    free(c);\n",
    "    cudaFree(d_a);\n",
    "    cudaFree(d_b);\n",
    "    cudaFree(d_c);\n",
    "\n",
    "    return 0;\n",
    "}\n",
    "\"\"\""
   ]
  },
  {
   "cell_type": "code",
   "execution_count": 15,
   "metadata": {
    "id": "3i3GGyhhS_m1"
   },
   "outputs": [],
   "source": [
    "text_file = open(\"assign4.cu\",\"w\")\n",
    "text_file.write(code)\n",
    "text_file.close()"
   ]
  },
  {
   "cell_type": "code",
   "execution_count": 16,
   "metadata": {
    "id": "YnM4poi6TRC1"
   },
   "outputs": [
    {
     "name": "stdout",
     "output_type": "stream",
     "text": [
      "/bin/bash: line 1: nvcc: command not found\r\n"
     ]
    }
   ],
   "source": [
    "!nvcc assign4.cu"
   ]
  },
  {
   "cell_type": "code",
   "execution_count": 17,
   "metadata": {
    "colab": {
     "base_uri": "https://localhost:8080/"
    },
    "id": "o-t45DImVPRZ",
    "outputId": "94a60127-7118-403f-8a9b-b320ddffeff5"
   },
   "outputs": [
    {
     "name": "stdout",
     "output_type": "stream",
     "text": [
      "/bin/bash: line 1: ./a.out: No such file or directory\r\n"
     ]
    }
   ],
   "source": [
    "!./a.out"
   ]
  },
  {
   "cell_type": "code",
   "execution_count": 18,
   "metadata": {
    "colab": {
     "base_uri": "https://localhost:8080/"
    },
    "id": "_zo5qqFDTYm1",
    "outputId": "3cb8dc96-66c0-4bc1-a41e-f96f1c4c5364"
   },
   "outputs": [
    {
     "name": "stdout",
     "output_type": "stream",
     "text": [
      "/bin/bash: line 1: nvprof: command not found\r\n"
     ]
    }
   ],
   "source": [
    "!nvprof ./a.out"
   ]
  },
  {
   "cell_type": "code",
   "execution_count": null,
   "metadata": {
    "id": "cJbYGgkEVL2f"
   },
   "outputs": [],
   "source": []
  }
 ],
 "metadata": {
  "accelerator": "GPU",
  "colab": {
   "gpuType": "T4",
   "provenance": []
  },
  "gpuClass": "standard",
  "kernelspec": {
   "display_name": "Python 3 (ipykernel)",
   "language": "python",
   "name": "python3"
  },
  "language_info": {
   "codemirror_mode": {
    "name": "ipython",
    "version": 3
   },
   "file_extension": ".py",
   "mimetype": "text/x-python",
   "name": "python",
   "nbconvert_exporter": "python",
   "pygments_lexer": "ipython3",
   "version": "3.10.6"
  }
 },
 "nbformat": 4,
 "nbformat_minor": 1
}
