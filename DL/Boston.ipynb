{
 "cells": [
  {
   "cell_type": "code",
   "execution_count": 28,
   "id": "104a494b",
   "metadata": {},
   "outputs": [
    {
     "name": "stdout",
     "output_type": "stream",
     "text": [
      "Defaulting to user installation because normal site-packages is not writeable\n",
      "Requirement already satisfied: scikit-learn in /home/amardip/.local/lib/python3.10/site-packages (1.2.2)\n",
      "Requirement already satisfied: numpy>=1.17.3 in /home/amardip/.local/lib/python3.10/site-packages (from scikit-learn) (1.23.5)\n",
      "Requirement already satisfied: scipy>=1.3.2 in /home/amardip/.local/lib/python3.10/site-packages (from scikit-learn) (1.10.1)\n",
      "Requirement already satisfied: joblib>=1.1.1 in /home/amardip/.local/lib/python3.10/site-packages (from scikit-learn) (1.2.0)\n",
      "Requirement already satisfied: threadpoolctl>=2.0.0 in /home/amardip/.local/lib/python3.10/site-packages (from scikit-learn) (3.1.0)\n",
      "Note: you may need to restart the kernel to use updated packages.\n"
     ]
    }
   ],
   "source": [
    "pip install -U scikit-learn"
   ]
  },
  {
   "cell_type": "code",
   "execution_count": 29,
   "id": "36e90601",
   "metadata": {},
   "outputs": [],
   "source": [
    "import pandas as pd\n",
    "import matplotlib.pyplot as plt"
   ]
  },
  {
   "cell_type": "markdown",
   "id": "09c0d469",
   "metadata": {},
   "source": [
    "### Load Dataset"
   ]
  },
  {
   "cell_type": "code",
   "execution_count": 30,
   "id": "64638d93",
   "metadata": {},
   "outputs": [
    {
     "data": {
      "text/html": [
       "<div>\n",
       "<style scoped>\n",
       "    .dataframe tbody tr th:only-of-type {\n",
       "        vertical-align: middle;\n",
       "    }\n",
       "\n",
       "    .dataframe tbody tr th {\n",
       "        vertical-align: top;\n",
       "    }\n",
       "\n",
       "    .dataframe thead th {\n",
       "        text-align: right;\n",
       "    }\n",
       "</style>\n",
       "<table border=\"1\" class=\"dataframe\">\n",
       "  <thead>\n",
       "    <tr style=\"text-align: right;\">\n",
       "      <th></th>\n",
       "      <th>CRIM</th>\n",
       "      <th>ZN</th>\n",
       "      <th>INDUS</th>\n",
       "      <th>CHAS</th>\n",
       "      <th>NOX</th>\n",
       "      <th>RM</th>\n",
       "      <th>AGE</th>\n",
       "      <th>DIS</th>\n",
       "      <th>RAD</th>\n",
       "      <th>TAX</th>\n",
       "      <th>PTRATIO</th>\n",
       "      <th>B</th>\n",
       "      <th>LSTAT</th>\n",
       "      <th>MEDV</th>\n",
       "      <th>CAT. MEDV</th>\n",
       "      <th>Unnamed: 15</th>\n",
       "      <th>Unnamed: 16</th>\n",
       "    </tr>\n",
       "  </thead>\n",
       "  <tbody>\n",
       "    <tr>\n",
       "      <th>0</th>\n",
       "      <td>0.00632</td>\n",
       "      <td>18.0</td>\n",
       "      <td>2.31</td>\n",
       "      <td>0</td>\n",
       "      <td>0.538</td>\n",
       "      <td>6.575</td>\n",
       "      <td>65.2</td>\n",
       "      <td>4.0900</td>\n",
       "      <td>1</td>\n",
       "      <td>296</td>\n",
       "      <td>15.3</td>\n",
       "      <td>396.90</td>\n",
       "      <td>4.98</td>\n",
       "      <td>24.0</td>\n",
       "      <td>0</td>\n",
       "      <td>NaN</td>\n",
       "      <td>NaN</td>\n",
       "    </tr>\n",
       "    <tr>\n",
       "      <th>1</th>\n",
       "      <td>0.02731</td>\n",
       "      <td>0.0</td>\n",
       "      <td>7.07</td>\n",
       "      <td>0</td>\n",
       "      <td>0.469</td>\n",
       "      <td>6.421</td>\n",
       "      <td>78.9</td>\n",
       "      <td>4.9671</td>\n",
       "      <td>2</td>\n",
       "      <td>242</td>\n",
       "      <td>17.8</td>\n",
       "      <td>396.90</td>\n",
       "      <td>9.14</td>\n",
       "      <td>21.6</td>\n",
       "      <td>0</td>\n",
       "      <td>NaN</td>\n",
       "      <td>NaN</td>\n",
       "    </tr>\n",
       "    <tr>\n",
       "      <th>2</th>\n",
       "      <td>0.02729</td>\n",
       "      <td>0.0</td>\n",
       "      <td>7.07</td>\n",
       "      <td>0</td>\n",
       "      <td>0.469</td>\n",
       "      <td>7.185</td>\n",
       "      <td>61.1</td>\n",
       "      <td>4.9671</td>\n",
       "      <td>2</td>\n",
       "      <td>242</td>\n",
       "      <td>17.8</td>\n",
       "      <td>392.83</td>\n",
       "      <td>4.03</td>\n",
       "      <td>34.7</td>\n",
       "      <td>1</td>\n",
       "      <td>NaN</td>\n",
       "      <td>NaN</td>\n",
       "    </tr>\n",
       "    <tr>\n",
       "      <th>3</th>\n",
       "      <td>0.03237</td>\n",
       "      <td>0.0</td>\n",
       "      <td>2.18</td>\n",
       "      <td>0</td>\n",
       "      <td>0.458</td>\n",
       "      <td>6.998</td>\n",
       "      <td>45.8</td>\n",
       "      <td>6.0622</td>\n",
       "      <td>3</td>\n",
       "      <td>222</td>\n",
       "      <td>18.7</td>\n",
       "      <td>394.63</td>\n",
       "      <td>2.94</td>\n",
       "      <td>33.4</td>\n",
       "      <td>1</td>\n",
       "      <td>NaN</td>\n",
       "      <td>NaN</td>\n",
       "    </tr>\n",
       "    <tr>\n",
       "      <th>4</th>\n",
       "      <td>0.06905</td>\n",
       "      <td>0.0</td>\n",
       "      <td>2.18</td>\n",
       "      <td>0</td>\n",
       "      <td>0.458</td>\n",
       "      <td>7.147</td>\n",
       "      <td>54.2</td>\n",
       "      <td>6.0622</td>\n",
       "      <td>3</td>\n",
       "      <td>222</td>\n",
       "      <td>18.7</td>\n",
       "      <td>396.90</td>\n",
       "      <td>5.33</td>\n",
       "      <td>36.2</td>\n",
       "      <td>1</td>\n",
       "      <td>NaN</td>\n",
       "      <td>NaN</td>\n",
       "    </tr>\n",
       "    <tr>\n",
       "      <th>5</th>\n",
       "      <td>0.02985</td>\n",
       "      <td>0.0</td>\n",
       "      <td>2.18</td>\n",
       "      <td>0</td>\n",
       "      <td>0.458</td>\n",
       "      <td>6.430</td>\n",
       "      <td>58.7</td>\n",
       "      <td>6.0622</td>\n",
       "      <td>3</td>\n",
       "      <td>222</td>\n",
       "      <td>18.7</td>\n",
       "      <td>394.12</td>\n",
       "      <td>5.21</td>\n",
       "      <td>28.7</td>\n",
       "      <td>0</td>\n",
       "      <td>NaN</td>\n",
       "      <td>NaN</td>\n",
       "    </tr>\n",
       "    <tr>\n",
       "      <th>6</th>\n",
       "      <td>0.08829</td>\n",
       "      <td>12.5</td>\n",
       "      <td>7.87</td>\n",
       "      <td>0</td>\n",
       "      <td>0.524</td>\n",
       "      <td>6.012</td>\n",
       "      <td>66.6</td>\n",
       "      <td>5.5605</td>\n",
       "      <td>5</td>\n",
       "      <td>311</td>\n",
       "      <td>15.2</td>\n",
       "      <td>395.60</td>\n",
       "      <td>12.43</td>\n",
       "      <td>22.9</td>\n",
       "      <td>0</td>\n",
       "      <td>NaN</td>\n",
       "      <td>NaN</td>\n",
       "    </tr>\n",
       "    <tr>\n",
       "      <th>7</th>\n",
       "      <td>0.14455</td>\n",
       "      <td>12.5</td>\n",
       "      <td>7.87</td>\n",
       "      <td>0</td>\n",
       "      <td>0.524</td>\n",
       "      <td>6.172</td>\n",
       "      <td>96.1</td>\n",
       "      <td>5.9505</td>\n",
       "      <td>5</td>\n",
       "      <td>311</td>\n",
       "      <td>15.2</td>\n",
       "      <td>396.90</td>\n",
       "      <td>19.15</td>\n",
       "      <td>27.1</td>\n",
       "      <td>0</td>\n",
       "      <td>NaN</td>\n",
       "      <td>NaN</td>\n",
       "    </tr>\n",
       "    <tr>\n",
       "      <th>8</th>\n",
       "      <td>0.21124</td>\n",
       "      <td>12.5</td>\n",
       "      <td>7.87</td>\n",
       "      <td>0</td>\n",
       "      <td>0.524</td>\n",
       "      <td>5.631</td>\n",
       "      <td>100.0</td>\n",
       "      <td>6.0821</td>\n",
       "      <td>5</td>\n",
       "      <td>311</td>\n",
       "      <td>15.2</td>\n",
       "      <td>386.63</td>\n",
       "      <td>29.93</td>\n",
       "      <td>16.5</td>\n",
       "      <td>0</td>\n",
       "      <td>NaN</td>\n",
       "      <td>NaN</td>\n",
       "    </tr>\n",
       "    <tr>\n",
       "      <th>9</th>\n",
       "      <td>0.17004</td>\n",
       "      <td>12.5</td>\n",
       "      <td>7.87</td>\n",
       "      <td>0</td>\n",
       "      <td>0.524</td>\n",
       "      <td>6.004</td>\n",
       "      <td>85.9</td>\n",
       "      <td>6.5921</td>\n",
       "      <td>5</td>\n",
       "      <td>311</td>\n",
       "      <td>15.2</td>\n",
       "      <td>386.71</td>\n",
       "      <td>17.10</td>\n",
       "      <td>18.9</td>\n",
       "      <td>0</td>\n",
       "      <td>NaN</td>\n",
       "      <td>NaN</td>\n",
       "    </tr>\n",
       "  </tbody>\n",
       "</table>\n",
       "</div>"
      ],
      "text/plain": [
       "      CRIM    ZN  INDUS  CHAS    NOX     RM    AGE     DIS  RAD  TAX  PTRATIO   \n",
       "0  0.00632  18.0   2.31     0  0.538  6.575   65.2  4.0900    1  296     15.3  \\\n",
       "1  0.02731   0.0   7.07     0  0.469  6.421   78.9  4.9671    2  242     17.8   \n",
       "2  0.02729   0.0   7.07     0  0.469  7.185   61.1  4.9671    2  242     17.8   \n",
       "3  0.03237   0.0   2.18     0  0.458  6.998   45.8  6.0622    3  222     18.7   \n",
       "4  0.06905   0.0   2.18     0  0.458  7.147   54.2  6.0622    3  222     18.7   \n",
       "5  0.02985   0.0   2.18     0  0.458  6.430   58.7  6.0622    3  222     18.7   \n",
       "6  0.08829  12.5   7.87     0  0.524  6.012   66.6  5.5605    5  311     15.2   \n",
       "7  0.14455  12.5   7.87     0  0.524  6.172   96.1  5.9505    5  311     15.2   \n",
       "8  0.21124  12.5   7.87     0  0.524  5.631  100.0  6.0821    5  311     15.2   \n",
       "9  0.17004  12.5   7.87     0  0.524  6.004   85.9  6.5921    5  311     15.2   \n",
       "\n",
       "        B  LSTAT  MEDV  CAT. MEDV  Unnamed: 15  Unnamed: 16  \n",
       "0  396.90   4.98  24.0          0          NaN          NaN  \n",
       "1  396.90   9.14  21.6          0          NaN          NaN  \n",
       "2  392.83   4.03  34.7          1          NaN          NaN  \n",
       "3  394.63   2.94  33.4          1          NaN          NaN  \n",
       "4  396.90   5.33  36.2          1          NaN          NaN  \n",
       "5  394.12   5.21  28.7          0          NaN          NaN  \n",
       "6  395.60  12.43  22.9          0          NaN          NaN  \n",
       "7  396.90  19.15  27.1          0          NaN          NaN  \n",
       "8  386.63  29.93  16.5          0          NaN          NaN  \n",
       "9  386.71  17.10  18.9          0          NaN          NaN  "
      ]
     },
     "execution_count": 30,
     "metadata": {},
     "output_type": "execute_result"
    }
   ],
   "source": [
    "df = pd.read_csv('Boston.csv')\n",
    "df.head(10)"
   ]
  },
  {
   "cell_type": "code",
   "execution_count": 31,
   "id": "55426a1b",
   "metadata": {},
   "outputs": [],
   "source": [
    "df.drop(columns=['Unnamed: 15','Unnamed: 16'],inplace=True)"
   ]
  },
  {
   "cell_type": "code",
   "execution_count": 32,
   "id": "dade5278",
   "metadata": {},
   "outputs": [],
   "source": [
    "df.drop(columns=['CAT. MEDV'],inplace=True)"
   ]
  },
  {
   "cell_type": "markdown",
   "id": "17d566fe",
   "metadata": {},
   "source": [
    "#### Checking for null values"
   ]
  },
  {
   "cell_type": "code",
   "execution_count": 33,
   "id": "e4792737",
   "metadata": {},
   "outputs": [
    {
     "data": {
      "text/plain": [
       "CRIM       0\n",
       "ZN         0\n",
       "INDUS      0\n",
       "CHAS       0\n",
       "NOX        0\n",
       "RM         0\n",
       "AGE        0\n",
       "DIS        0\n",
       "RAD        0\n",
       "TAX        0\n",
       "PTRATIO    0\n",
       "B          0\n",
       "LSTAT      0\n",
       "MEDV       0\n",
       "dtype: int64"
      ]
     },
     "execution_count": 33,
     "metadata": {},
     "output_type": "execute_result"
    }
   ],
   "source": [
    "df.isnull().sum()"
   ]
  },
  {
   "cell_type": "code",
   "execution_count": 34,
   "id": "036b309e",
   "metadata": {},
   "outputs": [
    {
     "name": "stdout",
     "output_type": "stream",
     "text": [
      "<class 'pandas.core.frame.DataFrame'>\n",
      "RangeIndex: 506 entries, 0 to 505\n",
      "Data columns (total 14 columns):\n",
      " #   Column   Non-Null Count  Dtype  \n",
      "---  ------   --------------  -----  \n",
      " 0   CRIM     506 non-null    float64\n",
      " 1   ZN       506 non-null    float64\n",
      " 2   INDUS    506 non-null    float64\n",
      " 3   CHAS     506 non-null    int64  \n",
      " 4   NOX      506 non-null    float64\n",
      " 5   RM       506 non-null    float64\n",
      " 6   AGE      506 non-null    float64\n",
      " 7   DIS      506 non-null    float64\n",
      " 8   RAD      506 non-null    int64  \n",
      " 9   TAX      506 non-null    int64  \n",
      " 10  PTRATIO  506 non-null    float64\n",
      " 11  B        506 non-null    float64\n",
      " 12  LSTAT    506 non-null    float64\n",
      " 13  MEDV     506 non-null    float64\n",
      "dtypes: float64(11), int64(3)\n",
      "memory usage: 55.5 KB\n"
     ]
    }
   ],
   "source": [
    "df.info()"
   ]
  },
  {
   "cell_type": "code",
   "execution_count": 35,
   "id": "851ae670",
   "metadata": {},
   "outputs": [
    {
     "data": {
      "text/html": [
       "<div>\n",
       "<style scoped>\n",
       "    .dataframe tbody tr th:only-of-type {\n",
       "        vertical-align: middle;\n",
       "    }\n",
       "\n",
       "    .dataframe tbody tr th {\n",
       "        vertical-align: top;\n",
       "    }\n",
       "\n",
       "    .dataframe thead th {\n",
       "        text-align: right;\n",
       "    }\n",
       "</style>\n",
       "<table border=\"1\" class=\"dataframe\">\n",
       "  <thead>\n",
       "    <tr style=\"text-align: right;\">\n",
       "      <th></th>\n",
       "      <th>CRIM</th>\n",
       "      <th>ZN</th>\n",
       "      <th>INDUS</th>\n",
       "      <th>CHAS</th>\n",
       "      <th>NOX</th>\n",
       "      <th>RM</th>\n",
       "      <th>AGE</th>\n",
       "      <th>DIS</th>\n",
       "      <th>RAD</th>\n",
       "      <th>TAX</th>\n",
       "      <th>PTRATIO</th>\n",
       "      <th>B</th>\n",
       "      <th>LSTAT</th>\n",
       "      <th>MEDV</th>\n",
       "    </tr>\n",
       "  </thead>\n",
       "  <tbody>\n",
       "    <tr>\n",
       "      <th>count</th>\n",
       "      <td>506.000000</td>\n",
       "      <td>506.000000</td>\n",
       "      <td>506.000000</td>\n",
       "      <td>506.000000</td>\n",
       "      <td>506.000000</td>\n",
       "      <td>506.000000</td>\n",
       "      <td>506.000000</td>\n",
       "      <td>506.000000</td>\n",
       "      <td>506.000000</td>\n",
       "      <td>506.000000</td>\n",
       "      <td>506.000000</td>\n",
       "      <td>506.000000</td>\n",
       "      <td>506.000000</td>\n",
       "      <td>506.000000</td>\n",
       "    </tr>\n",
       "    <tr>\n",
       "      <th>mean</th>\n",
       "      <td>3.613524</td>\n",
       "      <td>11.363636</td>\n",
       "      <td>11.136779</td>\n",
       "      <td>0.069170</td>\n",
       "      <td>0.554695</td>\n",
       "      <td>6.284634</td>\n",
       "      <td>68.574901</td>\n",
       "      <td>3.795043</td>\n",
       "      <td>9.549407</td>\n",
       "      <td>408.237154</td>\n",
       "      <td>18.455534</td>\n",
       "      <td>356.674032</td>\n",
       "      <td>12.653063</td>\n",
       "      <td>22.532806</td>\n",
       "    </tr>\n",
       "    <tr>\n",
       "      <th>std</th>\n",
       "      <td>8.601545</td>\n",
       "      <td>23.322453</td>\n",
       "      <td>6.860353</td>\n",
       "      <td>0.253994</td>\n",
       "      <td>0.115878</td>\n",
       "      <td>0.702617</td>\n",
       "      <td>28.148861</td>\n",
       "      <td>2.105710</td>\n",
       "      <td>8.707259</td>\n",
       "      <td>168.537116</td>\n",
       "      <td>2.164946</td>\n",
       "      <td>91.294864</td>\n",
       "      <td>7.141062</td>\n",
       "      <td>9.197104</td>\n",
       "    </tr>\n",
       "    <tr>\n",
       "      <th>min</th>\n",
       "      <td>0.006320</td>\n",
       "      <td>0.000000</td>\n",
       "      <td>0.460000</td>\n",
       "      <td>0.000000</td>\n",
       "      <td>0.385000</td>\n",
       "      <td>3.561000</td>\n",
       "      <td>2.900000</td>\n",
       "      <td>1.129600</td>\n",
       "      <td>1.000000</td>\n",
       "      <td>187.000000</td>\n",
       "      <td>12.600000</td>\n",
       "      <td>0.320000</td>\n",
       "      <td>1.730000</td>\n",
       "      <td>5.000000</td>\n",
       "    </tr>\n",
       "    <tr>\n",
       "      <th>25%</th>\n",
       "      <td>0.082045</td>\n",
       "      <td>0.000000</td>\n",
       "      <td>5.190000</td>\n",
       "      <td>0.000000</td>\n",
       "      <td>0.449000</td>\n",
       "      <td>5.885500</td>\n",
       "      <td>45.025000</td>\n",
       "      <td>2.100175</td>\n",
       "      <td>4.000000</td>\n",
       "      <td>279.000000</td>\n",
       "      <td>17.400000</td>\n",
       "      <td>375.377500</td>\n",
       "      <td>6.950000</td>\n",
       "      <td>17.025000</td>\n",
       "    </tr>\n",
       "    <tr>\n",
       "      <th>50%</th>\n",
       "      <td>0.256510</td>\n",
       "      <td>0.000000</td>\n",
       "      <td>9.690000</td>\n",
       "      <td>0.000000</td>\n",
       "      <td>0.538000</td>\n",
       "      <td>6.208500</td>\n",
       "      <td>77.500000</td>\n",
       "      <td>3.207450</td>\n",
       "      <td>5.000000</td>\n",
       "      <td>330.000000</td>\n",
       "      <td>19.050000</td>\n",
       "      <td>391.440000</td>\n",
       "      <td>11.360000</td>\n",
       "      <td>21.200000</td>\n",
       "    </tr>\n",
       "    <tr>\n",
       "      <th>75%</th>\n",
       "      <td>3.677083</td>\n",
       "      <td>12.500000</td>\n",
       "      <td>18.100000</td>\n",
       "      <td>0.000000</td>\n",
       "      <td>0.624000</td>\n",
       "      <td>6.623500</td>\n",
       "      <td>94.075000</td>\n",
       "      <td>5.188425</td>\n",
       "      <td>24.000000</td>\n",
       "      <td>666.000000</td>\n",
       "      <td>20.200000</td>\n",
       "      <td>396.225000</td>\n",
       "      <td>16.955000</td>\n",
       "      <td>25.000000</td>\n",
       "    </tr>\n",
       "    <tr>\n",
       "      <th>max</th>\n",
       "      <td>88.976200</td>\n",
       "      <td>100.000000</td>\n",
       "      <td>27.740000</td>\n",
       "      <td>1.000000</td>\n",
       "      <td>0.871000</td>\n",
       "      <td>8.780000</td>\n",
       "      <td>100.000000</td>\n",
       "      <td>12.126500</td>\n",
       "      <td>24.000000</td>\n",
       "      <td>711.000000</td>\n",
       "      <td>22.000000</td>\n",
       "      <td>396.900000</td>\n",
       "      <td>37.970000</td>\n",
       "      <td>50.000000</td>\n",
       "    </tr>\n",
       "  </tbody>\n",
       "</table>\n",
       "</div>"
      ],
      "text/plain": [
       "             CRIM          ZN       INDUS        CHAS         NOX          RM   \n",
       "count  506.000000  506.000000  506.000000  506.000000  506.000000  506.000000  \\\n",
       "mean     3.613524   11.363636   11.136779    0.069170    0.554695    6.284634   \n",
       "std      8.601545   23.322453    6.860353    0.253994    0.115878    0.702617   \n",
       "min      0.006320    0.000000    0.460000    0.000000    0.385000    3.561000   \n",
       "25%      0.082045    0.000000    5.190000    0.000000    0.449000    5.885500   \n",
       "50%      0.256510    0.000000    9.690000    0.000000    0.538000    6.208500   \n",
       "75%      3.677083   12.500000   18.100000    0.000000    0.624000    6.623500   \n",
       "max     88.976200  100.000000   27.740000    1.000000    0.871000    8.780000   \n",
       "\n",
       "              AGE         DIS         RAD         TAX     PTRATIO           B   \n",
       "count  506.000000  506.000000  506.000000  506.000000  506.000000  506.000000  \\\n",
       "mean    68.574901    3.795043    9.549407  408.237154   18.455534  356.674032   \n",
       "std     28.148861    2.105710    8.707259  168.537116    2.164946   91.294864   \n",
       "min      2.900000    1.129600    1.000000  187.000000   12.600000    0.320000   \n",
       "25%     45.025000    2.100175    4.000000  279.000000   17.400000  375.377500   \n",
       "50%     77.500000    3.207450    5.000000  330.000000   19.050000  391.440000   \n",
       "75%     94.075000    5.188425   24.000000  666.000000   20.200000  396.225000   \n",
       "max    100.000000   12.126500   24.000000  711.000000   22.000000  396.900000   \n",
       "\n",
       "            LSTAT        MEDV  \n",
       "count  506.000000  506.000000  \n",
       "mean    12.653063   22.532806  \n",
       "std      7.141062    9.197104  \n",
       "min      1.730000    5.000000  \n",
       "25%      6.950000   17.025000  \n",
       "50%     11.360000   21.200000  \n",
       "75%     16.955000   25.000000  \n",
       "max     37.970000   50.000000  "
      ]
     },
     "execution_count": 35,
     "metadata": {},
     "output_type": "execute_result"
    }
   ],
   "source": [
    "df.describe()"
   ]
  },
  {
   "cell_type": "markdown",
   "id": "44bc6735",
   "metadata": {},
   "source": [
    "#### Checking correlation with target variable MEDV"
   ]
  },
  {
   "cell_type": "code",
   "execution_count": 36,
   "id": "64ef4b15",
   "metadata": {},
   "outputs": [
    {
     "data": {
      "text/plain": [
       "LSTAT     -0.737663\n",
       "PTRATIO   -0.507787\n",
       "INDUS     -0.483725\n",
       "TAX       -0.468536\n",
       "NOX       -0.427321\n",
       "CRIM      -0.388305\n",
       "RAD       -0.381626\n",
       "AGE       -0.376955\n",
       "CHAS       0.175260\n",
       "DIS        0.249929\n",
       "B          0.333461\n",
       "ZN         0.360445\n",
       "RM         0.695360\n",
       "MEDV       1.000000\n",
       "Name: MEDV, dtype: float64"
      ]
     },
     "execution_count": 36,
     "metadata": {},
     "output_type": "execute_result"
    }
   ],
   "source": [
    "df.corr()['MEDV'].sort_values()"
   ]
  },
  {
   "cell_type": "code",
   "execution_count": 37,
   "id": "7168e688",
   "metadata": {},
   "outputs": [
    {
     "data": {
      "text/plain": [
       "((506, 3), (506,))"
      ]
     },
     "execution_count": 37,
     "metadata": {},
     "output_type": "execute_result"
    }
   ],
   "source": [
    "X = df.loc[:,['LSTAT','PTRATIO','RM']]\n",
    "Y = df.loc[:,\"MEDV\"]\n",
    "X.shape,Y.shape"
   ]
  },
  {
   "cell_type": "markdown",
   "id": "08648c29",
   "metadata": {},
   "source": [
    "### Preparing training and testing data set"
   ]
  },
  {
   "cell_type": "code",
   "execution_count": 38,
   "id": "cecea370",
   "metadata": {},
   "outputs": [],
   "source": [
    "from sklearn.model_selection import train_test_split\n",
    "x_train,x_test,y_train,y_test = train_test_split(X,Y,test_size=0.25,random_state=10)"
   ]
  },
  {
   "cell_type": "markdown",
   "id": "7eabb9f2",
   "metadata": {},
   "source": [
    "### Normalizing training and testing dataset"
   ]
  },
  {
   "cell_type": "code",
   "execution_count": 39,
   "id": "926fe0ce",
   "metadata": {},
   "outputs": [],
   "source": [
    "from sklearn.preprocessing import StandardScaler"
   ]
  },
  {
   "cell_type": "code",
   "execution_count": 40,
   "id": "1e49c4a2",
   "metadata": {},
   "outputs": [],
   "source": [
    "scaler = StandardScaler()"
   ]
  },
  {
   "cell_type": "code",
   "execution_count": 41,
   "id": "b99b26de",
   "metadata": {},
   "outputs": [
    {
     "data": {
      "text/html": [
       "<style>#sk-container-id-2 {color: black;background-color: white;}#sk-container-id-2 pre{padding: 0;}#sk-container-id-2 div.sk-toggleable {background-color: white;}#sk-container-id-2 label.sk-toggleable__label {cursor: pointer;display: block;width: 100%;margin-bottom: 0;padding: 0.3em;box-sizing: border-box;text-align: center;}#sk-container-id-2 label.sk-toggleable__label-arrow:before {content: \"▸\";float: left;margin-right: 0.25em;color: #696969;}#sk-container-id-2 label.sk-toggleable__label-arrow:hover:before {color: black;}#sk-container-id-2 div.sk-estimator:hover label.sk-toggleable__label-arrow:before {color: black;}#sk-container-id-2 div.sk-toggleable__content {max-height: 0;max-width: 0;overflow: hidden;text-align: left;background-color: #f0f8ff;}#sk-container-id-2 div.sk-toggleable__content pre {margin: 0.2em;color: black;border-radius: 0.25em;background-color: #f0f8ff;}#sk-container-id-2 input.sk-toggleable__control:checked~div.sk-toggleable__content {max-height: 200px;max-width: 100%;overflow: auto;}#sk-container-id-2 input.sk-toggleable__control:checked~label.sk-toggleable__label-arrow:before {content: \"▾\";}#sk-container-id-2 div.sk-estimator input.sk-toggleable__control:checked~label.sk-toggleable__label {background-color: #d4ebff;}#sk-container-id-2 div.sk-label input.sk-toggleable__control:checked~label.sk-toggleable__label {background-color: #d4ebff;}#sk-container-id-2 input.sk-hidden--visually {border: 0;clip: rect(1px 1px 1px 1px);clip: rect(1px, 1px, 1px, 1px);height: 1px;margin: -1px;overflow: hidden;padding: 0;position: absolute;width: 1px;}#sk-container-id-2 div.sk-estimator {font-family: monospace;background-color: #f0f8ff;border: 1px dotted black;border-radius: 0.25em;box-sizing: border-box;margin-bottom: 0.5em;}#sk-container-id-2 div.sk-estimator:hover {background-color: #d4ebff;}#sk-container-id-2 div.sk-parallel-item::after {content: \"\";width: 100%;border-bottom: 1px solid gray;flex-grow: 1;}#sk-container-id-2 div.sk-label:hover label.sk-toggleable__label {background-color: #d4ebff;}#sk-container-id-2 div.sk-serial::before {content: \"\";position: absolute;border-left: 1px solid gray;box-sizing: border-box;top: 0;bottom: 0;left: 50%;z-index: 0;}#sk-container-id-2 div.sk-serial {display: flex;flex-direction: column;align-items: center;background-color: white;padding-right: 0.2em;padding-left: 0.2em;position: relative;}#sk-container-id-2 div.sk-item {position: relative;z-index: 1;}#sk-container-id-2 div.sk-parallel {display: flex;align-items: stretch;justify-content: center;background-color: white;position: relative;}#sk-container-id-2 div.sk-item::before, #sk-container-id-2 div.sk-parallel-item::before {content: \"\";position: absolute;border-left: 1px solid gray;box-sizing: border-box;top: 0;bottom: 0;left: 50%;z-index: -1;}#sk-container-id-2 div.sk-parallel-item {display: flex;flex-direction: column;z-index: 1;position: relative;background-color: white;}#sk-container-id-2 div.sk-parallel-item:first-child::after {align-self: flex-end;width: 50%;}#sk-container-id-2 div.sk-parallel-item:last-child::after {align-self: flex-start;width: 50%;}#sk-container-id-2 div.sk-parallel-item:only-child::after {width: 0;}#sk-container-id-2 div.sk-dashed-wrapped {border: 1px dashed gray;margin: 0 0.4em 0.5em 0.4em;box-sizing: border-box;padding-bottom: 0.4em;background-color: white;}#sk-container-id-2 div.sk-label label {font-family: monospace;font-weight: bold;display: inline-block;line-height: 1.2em;}#sk-container-id-2 div.sk-label-container {text-align: center;}#sk-container-id-2 div.sk-container {/* jupyter's `normalize.less` sets `[hidden] { display: none; }` but bootstrap.min.css set `[hidden] { display: none !important; }` so we also need the `!important` here to be able to override the default hidden behavior on the sphinx rendered scikit-learn.org. See: https://github.com/scikit-learn/scikit-learn/issues/21755 */display: inline-block !important;position: relative;}#sk-container-id-2 div.sk-text-repr-fallback {display: none;}</style><div id=\"sk-container-id-2\" class=\"sk-top-container\"><div class=\"sk-text-repr-fallback\"><pre>StandardScaler()</pre><b>In a Jupyter environment, please rerun this cell to show the HTML representation or trust the notebook. <br />On GitHub, the HTML representation is unable to render, please try loading this page with nbviewer.org.</b></div><div class=\"sk-container\" hidden><div class=\"sk-item\"><div class=\"sk-estimator sk-toggleable\"><input class=\"sk-toggleable__control sk-hidden--visually\" id=\"sk-estimator-id-2\" type=\"checkbox\" checked><label for=\"sk-estimator-id-2\" class=\"sk-toggleable__label sk-toggleable__label-arrow\">StandardScaler</label><div class=\"sk-toggleable__content\"><pre>StandardScaler()</pre></div></div></div></div></div>"
      ],
      "text/plain": [
       "StandardScaler()"
      ]
     },
     "execution_count": 41,
     "metadata": {},
     "output_type": "execute_result"
    }
   ],
   "source": [
    "scaler.fit(x_train)"
   ]
  },
  {
   "cell_type": "code",
   "execution_count": 42,
   "id": "eece8526",
   "metadata": {},
   "outputs": [],
   "source": [
    "x_train = scaler.transform(x_train)\n",
    "x_test = scaler.transform(x_test)"
   ]
  },
  {
   "cell_type": "markdown",
   "id": "a1ed18cc",
   "metadata": {},
   "source": [
    "### Preparing model"
   ]
  },
  {
   "cell_type": "code",
   "execution_count": 43,
   "id": "1243c6f8",
   "metadata": {},
   "outputs": [],
   "source": [
    "from keras.models import Sequential\n",
    "from keras.layers import Dense"
   ]
  },
  {
   "cell_type": "code",
   "execution_count": 44,
   "id": "e7dad931",
   "metadata": {},
   "outputs": [],
   "source": [
    "model = Sequential()"
   ]
  },
  {
   "cell_type": "code",
   "execution_count": 45,
   "id": "0baf27a9",
   "metadata": {
    "scrolled": true
   },
   "outputs": [
    {
     "name": "stdout",
     "output_type": "stream",
     "text": [
      "Model: \"sequential_1\"\n",
      "_________________________________________________________________\n",
      " Layer (type)                Output Shape              Param #   \n",
      "=================================================================\n",
      " input (Dense)               (None, 128)               512       \n",
      "                                                                 \n",
      " layer_1 (Dense)             (None, 64)                8256      \n",
      "                                                                 \n",
      " output (Dense)              (None, 1)                 65        \n",
      "                                                                 \n",
      "=================================================================\n",
      "Total params: 8,833\n",
      "Trainable params: 8,833\n",
      "Non-trainable params: 0\n",
      "_________________________________________________________________\n"
     ]
    }
   ],
   "source": [
    "model.add(Dense(128,input_shape=(3,),activation='relu',name='input'))\n",
    "model.add(Dense(64,activation='relu',name='layer_1'))\n",
    "model.add(Dense(1,activation='linear',name='output'))\n",
    "model.compile(optimizer='adam', loss='mse', metrics=['mae'])\n",
    "model.summary()"
   ]
  },
  {
   "cell_type": "code",
   "execution_count": 46,
   "id": "4b51358b",
   "metadata": {
    "scrolled": false
   },
   "outputs": [
    {
     "name": "stdout",
     "output_type": "stream",
     "text": [
      "Epoch 1/100\n",
      "12/12 [==============================] - 2s 43ms/step - loss: 539.0469 - mae: 21.5394 - val_loss: 710.7635 - val_mae: 23.9150\n",
      "Epoch 2/100\n",
      "12/12 [==============================] - 0s 12ms/step - loss: 505.2821 - mae: 20.7796 - val_loss: 669.0710 - val_mae: 23.0069\n",
      "Epoch 3/100\n",
      "12/12 [==============================] - 0s 11ms/step - loss: 460.4730 - mae: 19.7266 - val_loss: 611.9011 - val_mae: 21.7119\n",
      "Epoch 4/100\n",
      "12/12 [==============================] - 0s 12ms/step - loss: 397.5647 - mae: 18.1581 - val_loss: 534.5832 - val_mae: 19.8636\n",
      "Epoch 5/100\n",
      "12/12 [==============================] - 0s 11ms/step - loss: 315.9831 - mae: 15.9707 - val_loss: 435.7589 - val_mae: 17.6531\n",
      "Epoch 6/100\n",
      "12/12 [==============================] - 0s 12ms/step - loss: 218.0788 - mae: 13.1889 - val_loss: 329.4807 - val_mae: 14.8011\n",
      "Epoch 7/100\n",
      "12/12 [==============================] - 0s 12ms/step - loss: 128.7289 - mae: 10.0392 - val_loss: 233.3040 - val_mae: 11.7657\n",
      "Epoch 8/100\n",
      "12/12 [==============================] - 0s 12ms/step - loss: 67.3559 - mae: 6.9915 - val_loss: 165.1060 - val_mae: 9.5559\n",
      "Epoch 9/100\n",
      "12/12 [==============================] - 0s 12ms/step - loss: 42.8854 - mae: 5.2276 - val_loss: 132.9013 - val_mae: 8.2227\n",
      "Epoch 10/100\n",
      "12/12 [==============================] - 0s 12ms/step - loss: 36.9783 - mae: 4.7049 - val_loss: 117.9793 - val_mae: 7.7419\n",
      "Epoch 11/100\n",
      "12/12 [==============================] - 0s 12ms/step - loss: 32.2270 - mae: 4.3148 - val_loss: 110.7891 - val_mae: 7.5200\n",
      "Epoch 12/100\n",
      "12/12 [==============================] - 0s 11ms/step - loss: 28.8740 - mae: 4.0522 - val_loss: 104.2625 - val_mae: 7.2919\n",
      "Epoch 13/100\n",
      "12/12 [==============================] - 0s 12ms/step - loss: 26.7478 - mae: 3.8614 - val_loss: 98.4048 - val_mae: 7.0660\n",
      "Epoch 14/100\n",
      "12/12 [==============================] - 0s 12ms/step - loss: 25.4130 - mae: 3.7644 - val_loss: 95.8521 - val_mae: 6.9757\n",
      "Epoch 15/100\n",
      "12/12 [==============================] - 0s 12ms/step - loss: 24.3172 - mae: 3.6602 - val_loss: 92.6951 - val_mae: 6.8751\n",
      "Epoch 16/100\n",
      "12/12 [==============================] - 0s 11ms/step - loss: 23.4655 - mae: 3.5830 - val_loss: 90.5296 - val_mae: 6.8129\n",
      "Epoch 17/100\n",
      "12/12 [==============================] - 0s 12ms/step - loss: 22.5680 - mae: 3.5188 - val_loss: 90.9604 - val_mae: 6.7616\n",
      "Epoch 18/100\n",
      "12/12 [==============================] - 0s 12ms/step - loss: 21.8805 - mae: 3.4617 - val_loss: 89.9781 - val_mae: 6.7016\n",
      "Epoch 19/100\n",
      "12/12 [==============================] - 0s 13ms/step - loss: 21.3179 - mae: 3.4106 - val_loss: 88.2545 - val_mae: 6.6256\n",
      "Epoch 20/100\n",
      "12/12 [==============================] - 0s 13ms/step - loss: 20.7578 - mae: 3.3650 - val_loss: 89.0261 - val_mae: 6.5586\n",
      "Epoch 21/100\n",
      "12/12 [==============================] - 0s 12ms/step - loss: 20.2987 - mae: 3.3128 - val_loss: 86.0993 - val_mae: 6.4645\n",
      "Epoch 22/100\n",
      "12/12 [==============================] - 0s 12ms/step - loss: 19.7209 - mae: 3.2560 - val_loss: 85.8438 - val_mae: 6.4238\n",
      "Epoch 23/100\n",
      "12/12 [==============================] - 0s 12ms/step - loss: 19.3403 - mae: 3.2197 - val_loss: 85.4729 - val_mae: 6.3672\n",
      "Epoch 24/100\n",
      "12/12 [==============================] - 0s 12ms/step - loss: 18.9205 - mae: 3.1901 - val_loss: 84.8016 - val_mae: 6.2941\n",
      "Epoch 25/100\n",
      "12/12 [==============================] - 0s 12ms/step - loss: 18.5070 - mae: 3.1614 - val_loss: 85.1084 - val_mae: 6.2774\n",
      "Epoch 26/100\n",
      "12/12 [==============================] - 0s 13ms/step - loss: 18.0626 - mae: 3.1145 - val_loss: 82.5616 - val_mae: 6.2122\n",
      "Epoch 27/100\n",
      "12/12 [==============================] - 0s 12ms/step - loss: 17.8809 - mae: 3.1004 - val_loss: 83.3198 - val_mae: 6.1575\n",
      "Epoch 28/100\n",
      "12/12 [==============================] - 0s 11ms/step - loss: 17.5143 - mae: 3.0630 - val_loss: 83.9702 - val_mae: 6.1051\n",
      "Epoch 29/100\n",
      "12/12 [==============================] - 0s 11ms/step - loss: 17.1516 - mae: 3.0356 - val_loss: 87.1169 - val_mae: 6.2019\n",
      "Epoch 30/100\n",
      "12/12 [==============================] - 0s 11ms/step - loss: 17.0926 - mae: 3.0368 - val_loss: 86.3252 - val_mae: 6.1574\n",
      "Epoch 31/100\n",
      "12/12 [==============================] - 0s 11ms/step - loss: 16.6538 - mae: 3.0061 - val_loss: 83.7920 - val_mae: 6.0052\n",
      "Epoch 32/100\n",
      "12/12 [==============================] - 0s 12ms/step - loss: 16.4356 - mae: 2.9700 - val_loss: 81.9376 - val_mae: 5.9326\n",
      "Epoch 33/100\n",
      "12/12 [==============================] - 0s 12ms/step - loss: 16.2143 - mae: 2.9468 - val_loss: 82.3783 - val_mae: 5.9016\n",
      "Epoch 34/100\n",
      "12/12 [==============================] - 0s 11ms/step - loss: 15.9802 - mae: 2.9211 - val_loss: 84.4061 - val_mae: 5.9559\n",
      "Epoch 35/100\n",
      "12/12 [==============================] - 0s 11ms/step - loss: 15.7786 - mae: 2.8988 - val_loss: 82.8656 - val_mae: 5.8672\n",
      "Epoch 36/100\n",
      "12/12 [==============================] - 0s 12ms/step - loss: 15.7126 - mae: 2.9125 - val_loss: 81.8817 - val_mae: 5.8168\n",
      "Epoch 37/100\n",
      "12/12 [==============================] - 0s 12ms/step - loss: 15.5335 - mae: 2.8944 - val_loss: 83.1085 - val_mae: 5.8665\n",
      "Epoch 38/100\n",
      "12/12 [==============================] - 0s 11ms/step - loss: 15.3379 - mae: 2.8628 - val_loss: 81.4861 - val_mae: 5.7856\n",
      "Epoch 39/100\n",
      "12/12 [==============================] - 0s 12ms/step - loss: 15.2334 - mae: 2.8343 - val_loss: 82.0785 - val_mae: 5.7560\n",
      "Epoch 40/100\n",
      "12/12 [==============================] - 0s 12ms/step - loss: 15.5462 - mae: 2.8647 - val_loss: 87.4715 - val_mae: 5.9290\n",
      "Epoch 41/100\n",
      "12/12 [==============================] - 0s 12ms/step - loss: 14.9805 - mae: 2.8389 - val_loss: 83.9632 - val_mae: 5.7895\n",
      "Epoch 42/100\n",
      "12/12 [==============================] - 0s 12ms/step - loss: 14.9712 - mae: 2.8244 - val_loss: 82.4349 - val_mae: 5.7190\n",
      "Epoch 43/100\n",
      "12/12 [==============================] - 0s 13ms/step - loss: 14.6636 - mae: 2.7877 - val_loss: 82.5330 - val_mae: 5.7237\n",
      "Epoch 44/100\n",
      "12/12 [==============================] - 0s 11ms/step - loss: 14.6896 - mae: 2.8070 - val_loss: 81.5299 - val_mae: 5.6892\n",
      "Epoch 45/100\n",
      "12/12 [==============================] - 0s 12ms/step - loss: 14.3979 - mae: 2.7686 - val_loss: 81.7689 - val_mae: 5.6703\n",
      "Epoch 46/100\n",
      "12/12 [==============================] - 0s 12ms/step - loss: 14.3963 - mae: 2.7514 - val_loss: 82.2025 - val_mae: 5.6605\n",
      "Epoch 47/100\n",
      "12/12 [==============================] - 0s 12ms/step - loss: 14.2813 - mae: 2.7496 - val_loss: 80.8157 - val_mae: 5.6152\n",
      "Epoch 48/100\n",
      "12/12 [==============================] - 0s 13ms/step - loss: 14.2200 - mae: 2.7650 - val_loss: 81.6182 - val_mae: 5.6240\n",
      "Epoch 49/100\n",
      "12/12 [==============================] - 0s 12ms/step - loss: 14.1504 - mae: 2.7475 - val_loss: 80.5893 - val_mae: 5.5745\n",
      "Epoch 50/100\n",
      "12/12 [==============================] - 0s 11ms/step - loss: 14.0198 - mae: 2.7133 - val_loss: 81.4653 - val_mae: 5.6045\n",
      "Epoch 51/100\n",
      "12/12 [==============================] - 0s 12ms/step - loss: 13.9744 - mae: 2.7051 - val_loss: 81.8295 - val_mae: 5.6141\n",
      "Epoch 52/100\n",
      "12/12 [==============================] - 0s 12ms/step - loss: 13.8643 - mae: 2.7146 - val_loss: 81.0704 - val_mae: 5.5865\n",
      "Epoch 53/100\n",
      "12/12 [==============================] - 0s 12ms/step - loss: 13.7521 - mae: 2.6931 - val_loss: 81.9921 - val_mae: 5.5760\n",
      "Epoch 54/100\n",
      "12/12 [==============================] - 0s 12ms/step - loss: 13.6816 - mae: 2.6803 - val_loss: 81.2855 - val_mae: 5.5552\n",
      "Epoch 55/100\n",
      "12/12 [==============================] - 0s 12ms/step - loss: 13.7522 - mae: 2.6870 - val_loss: 82.8122 - val_mae: 5.5888\n",
      "Epoch 56/100\n",
      "12/12 [==============================] - 0s 12ms/step - loss: 13.4571 - mae: 2.6562 - val_loss: 81.0926 - val_mae: 5.5196\n",
      "Epoch 57/100\n",
      "12/12 [==============================] - 0s 11ms/step - loss: 13.6127 - mae: 2.6792 - val_loss: 80.3397 - val_mae: 5.4963\n",
      "Epoch 58/100\n",
      "12/12 [==============================] - 0s 12ms/step - loss: 13.3792 - mae: 2.6483 - val_loss: 83.1623 - val_mae: 5.5632\n",
      "Epoch 59/100\n",
      "12/12 [==============================] - 0s 13ms/step - loss: 13.3403 - mae: 2.6352 - val_loss: 81.5749 - val_mae: 5.5213\n",
      "Epoch 60/100\n",
      "12/12 [==============================] - 0s 13ms/step - loss: 13.2535 - mae: 2.6266 - val_loss: 81.4033 - val_mae: 5.4869\n",
      "Epoch 61/100\n"
     ]
    },
    {
     "name": "stdout",
     "output_type": "stream",
     "text": [
      "12/12 [==============================] - 0s 12ms/step - loss: 13.1513 - mae: 2.6180 - val_loss: 80.8976 - val_mae: 5.4682\n",
      "Epoch 62/100\n",
      "12/12 [==============================] - 0s 13ms/step - loss: 13.1267 - mae: 2.6260 - val_loss: 82.8356 - val_mae: 5.5199\n",
      "Epoch 63/100\n",
      "12/12 [==============================] - 0s 13ms/step - loss: 13.1581 - mae: 2.6361 - val_loss: 83.5859 - val_mae: 5.5421\n",
      "Epoch 64/100\n",
      "12/12 [==============================] - 0s 13ms/step - loss: 13.0752 - mae: 2.6137 - val_loss: 80.3902 - val_mae: 5.4426\n",
      "Epoch 65/100\n",
      "12/12 [==============================] - 0s 12ms/step - loss: 12.8959 - mae: 2.6027 - val_loss: 80.3920 - val_mae: 5.4341\n",
      "Epoch 66/100\n",
      "12/12 [==============================] - 0s 12ms/step - loss: 12.8159 - mae: 2.5936 - val_loss: 82.4038 - val_mae: 5.4592\n",
      "Epoch 67/100\n",
      "12/12 [==============================] - 0s 12ms/step - loss: 12.7899 - mae: 2.5919 - val_loss: 82.9659 - val_mae: 5.4717\n",
      "Epoch 68/100\n",
      "12/12 [==============================] - 0s 12ms/step - loss: 12.6451 - mae: 2.5675 - val_loss: 82.0736 - val_mae: 5.4132\n",
      "Epoch 69/100\n",
      "12/12 [==============================] - 0s 11ms/step - loss: 12.6985 - mae: 2.5552 - val_loss: 80.0239 - val_mae: 5.3313\n",
      "Epoch 70/100\n",
      "12/12 [==============================] - 0s 12ms/step - loss: 12.6383 - mae: 2.5875 - val_loss: 85.9057 - val_mae: 5.5068\n",
      "Epoch 71/100\n",
      "12/12 [==============================] - 0s 11ms/step - loss: 12.5811 - mae: 2.5813 - val_loss: 83.9854 - val_mae: 5.4696\n",
      "Epoch 72/100\n",
      "12/12 [==============================] - 0s 12ms/step - loss: 12.3674 - mae: 2.5655 - val_loss: 80.8404 - val_mae: 5.4366\n",
      "Epoch 73/100\n",
      "12/12 [==============================] - 0s 12ms/step - loss: 12.3868 - mae: 2.5763 - val_loss: 80.6803 - val_mae: 5.4079\n",
      "Epoch 74/100\n",
      "12/12 [==============================] - 0s 11ms/step - loss: 12.3380 - mae: 2.5490 - val_loss: 82.6852 - val_mae: 5.4058\n",
      "Epoch 75/100\n",
      "12/12 [==============================] - 0s 12ms/step - loss: 12.2334 - mae: 2.5434 - val_loss: 82.2017 - val_mae: 5.3748\n",
      "Epoch 76/100\n",
      "12/12 [==============================] - 0s 12ms/step - loss: 12.0839 - mae: 2.5233 - val_loss: 83.1489 - val_mae: 5.3576\n",
      "Epoch 77/100\n",
      "12/12 [==============================] - 0s 12ms/step - loss: 12.0550 - mae: 2.5092 - val_loss: 81.9987 - val_mae: 5.2975\n",
      "Epoch 78/100\n",
      "12/12 [==============================] - 0s 13ms/step - loss: 11.9984 - mae: 2.4995 - val_loss: 81.2677 - val_mae: 5.2853\n",
      "Epoch 79/100\n",
      "12/12 [==============================] - 0s 12ms/step - loss: 11.9600 - mae: 2.5111 - val_loss: 81.8073 - val_mae: 5.3067\n",
      "Epoch 80/100\n",
      "12/12 [==============================] - 0s 12ms/step - loss: 11.8957 - mae: 2.4968 - val_loss: 82.4798 - val_mae: 5.2715\n",
      "Epoch 81/100\n",
      "12/12 [==============================] - 0s 12ms/step - loss: 11.8454 - mae: 2.5001 - val_loss: 82.9483 - val_mae: 5.2928\n",
      "Epoch 82/100\n",
      "12/12 [==============================] - 0s 13ms/step - loss: 11.7625 - mae: 2.4965 - val_loss: 83.4828 - val_mae: 5.3171\n",
      "Epoch 83/100\n",
      "12/12 [==============================] - 0s 12ms/step - loss: 11.6730 - mae: 2.4785 - val_loss: 82.1854 - val_mae: 5.2752\n",
      "Epoch 84/100\n",
      "12/12 [==============================] - 0s 11ms/step - loss: 11.7047 - mae: 2.4755 - val_loss: 83.0782 - val_mae: 5.2873\n",
      "Epoch 85/100\n",
      "12/12 [==============================] - 0s 12ms/step - loss: 11.7049 - mae: 2.4812 - val_loss: 82.9797 - val_mae: 5.2738\n",
      "Epoch 86/100\n",
      "12/12 [==============================] - 0s 12ms/step - loss: 11.4963 - mae: 2.4571 - val_loss: 81.2914 - val_mae: 5.2158\n",
      "Epoch 87/100\n",
      "12/12 [==============================] - 0s 12ms/step - loss: 11.4913 - mae: 2.4466 - val_loss: 81.8368 - val_mae: 5.2379\n",
      "Epoch 88/100\n",
      "12/12 [==============================] - 0s 13ms/step - loss: 11.7647 - mae: 2.4939 - val_loss: 82.2131 - val_mae: 5.2249\n",
      "Epoch 89/100\n",
      "12/12 [==============================] - 0s 11ms/step - loss: 11.4550 - mae: 2.4566 - val_loss: 82.4830 - val_mae: 5.2143\n",
      "Epoch 90/100\n",
      "12/12 [==============================] - 0s 12ms/step - loss: 11.2490 - mae: 2.4320 - val_loss: 81.9944 - val_mae: 5.2063\n",
      "Epoch 91/100\n",
      "12/12 [==============================] - 0s 12ms/step - loss: 11.2717 - mae: 2.4312 - val_loss: 80.8934 - val_mae: 5.1482\n",
      "Epoch 92/100\n",
      "12/12 [==============================] - 0s 12ms/step - loss: 11.2219 - mae: 2.4242 - val_loss: 81.6974 - val_mae: 5.1684\n",
      "Epoch 93/100\n",
      "12/12 [==============================] - 0s 12ms/step - loss: 11.2135 - mae: 2.4260 - val_loss: 83.4710 - val_mae: 5.2401\n",
      "Epoch 94/100\n",
      "12/12 [==============================] - 0s 12ms/step - loss: 11.0372 - mae: 2.4117 - val_loss: 82.3155 - val_mae: 5.1376\n",
      "Epoch 95/100\n",
      "12/12 [==============================] - 0s 12ms/step - loss: 11.0211 - mae: 2.3988 - val_loss: 83.4056 - val_mae: 5.1954\n",
      "Epoch 96/100\n",
      "12/12 [==============================] - 0s 12ms/step - loss: 11.0185 - mae: 2.3971 - val_loss: 82.5849 - val_mae: 5.2038\n",
      "Epoch 97/100\n",
      "12/12 [==============================] - 0s 13ms/step - loss: 10.9940 - mae: 2.3969 - val_loss: 81.9663 - val_mae: 5.1711\n",
      "Epoch 98/100\n",
      "12/12 [==============================] - 0s 11ms/step - loss: 10.9022 - mae: 2.3897 - val_loss: 81.9285 - val_mae: 5.1421\n",
      "Epoch 99/100\n",
      "12/12 [==============================] - 0s 12ms/step - loss: 10.8846 - mae: 2.3863 - val_loss: 82.1181 - val_mae: 5.1793\n",
      "Epoch 100/100\n",
      "12/12 [==============================] - 0s 12ms/step - loss: 10.8417 - mae: 2.3888 - val_loss: 82.1771 - val_mae: 5.1774\n"
     ]
    },
    {
     "data": {
      "text/plain": [
       "<keras.callbacks.History at 0x7fad583045b0>"
      ]
     },
     "execution_count": 46,
     "metadata": {},
     "output_type": "execute_result"
    }
   ],
   "source": [
    "model.fit(x_train,y_train,epochs=100,validation_split=0.05)"
   ]
  },
  {
   "cell_type": "code",
   "execution_count": 47,
   "id": "e2afb08a",
   "metadata": {},
   "outputs": [
    {
     "name": "stdout",
     "output_type": "stream",
     "text": [
      "4/4 [==============================] - 0s 6ms/step - loss: 22.7995 - mae: 3.1585\n"
     ]
    }
   ],
   "source": [
    "output = model.evaluate(x_test,y_test)"
   ]
  },
  {
   "cell_type": "code",
   "execution_count": 48,
   "id": "b7bf34bd",
   "metadata": {},
   "outputs": [
    {
     "name": "stdout",
     "output_type": "stream",
     "text": [
      "Mean Squared Error: 22.799549102783203\n",
      "Mean Absolute Error: 3.158538579940796\n"
     ]
    }
   ],
   "source": [
    "print(f\"Mean Squared Error: {output[0]}\"\n",
    "      ,f\"Mean Absolute Error: {output[1]}\",sep=\"\\n\")"
   ]
  },
  {
   "cell_type": "code",
   "execution_count": 49,
   "id": "85333e40",
   "metadata": {},
   "outputs": [
    {
     "name": "stdout",
     "output_type": "stream",
     "text": [
      "4/4 [==============================] - 0s 4ms/step\n"
     ]
    }
   ],
   "source": [
    "y_pred = model.predict(x=x_test)"
   ]
  },
  {
   "cell_type": "code",
   "execution_count": 50,
   "id": "4be4c127",
   "metadata": {},
   "outputs": [
    {
     "name": "stdout",
     "output_type": "stream",
     "text": [
      "(array([24.976315], dtype=float32), 28.4) (array([30.681852], dtype=float32), 31.1) (array([26.012794], dtype=float32), 23.5) (array([27.453888], dtype=float32), 26.6) (array([19.706347], dtype=float32), 19.6) (array([16.527912], dtype=float32), 14.3) (array([42.219772], dtype=float32), 50.0) (array([14.787165], dtype=float32), 14.3) (array([19.548643], dtype=float32), 20.7) (array([42.92977], dtype=float32), 37.6) (array([17.886337], dtype=float32), 20.4) (array([26.522556], dtype=float32), 27.5) (array([22.304466], dtype=float32), 36.2) (array([32.348175], dtype=float32), 32.0) (array([30.99604], dtype=float32), 33.1) (array([52.14821], dtype=float32), 48.8) (array([26.072231], dtype=float32), 24.6) (array([19.137245], dtype=float32), 26.4) (array([20.926523], dtype=float32), 23.2) (array([19.69601], dtype=float32), 17.0) (array([33.406994], dtype=float32), 41.3) (array([15.625245], dtype=float32), 14.9) (array([22.090927], dtype=float32), 18.5) (array([25.105446], dtype=float32), 25.0) (array([37.0568], dtype=float32), 36.4) (array([21.191353], dtype=float32), 19.5) (array([18.5684], dtype=float32), 27.1) (array([16.67949], dtype=float32), 14.9) (array([42.89873], dtype=float32), 46.0) (array([10.950748], dtype=float32), 17.9) (array([35.036358], dtype=float32), 30.3) (array([32.124474], dtype=float32), 31.6) (array([26.350132], dtype=float32), 23.1) (array([24.00378], dtype=float32), 24.7) (array([14.952589], dtype=float32), 16.7) (array([19.449215], dtype=float32), 18.3) (array([8.36183], dtype=float32), 8.4) (array([32.088776], dtype=float32), 37.3) (array([24.9454], dtype=float32), 22.1) (array([24.299421], dtype=float32), 22.0) (array([38.835163], dtype=float32), 46.7) (array([26.042233], dtype=float32), 30.1) (array([13.81223], dtype=float32), 12.1) (array([29.2207], dtype=float32), 29.1) (array([16.94013], dtype=float32), 16.6) (array([27.0878], dtype=float32), 23.9) (array([17.97943], dtype=float32), 19.9) (array([18.648403], dtype=float32), 21.4) (array([44.43343], dtype=float32), 45.4) (array([16.294643], dtype=float32), 15.6) (array([20.274815], dtype=float32), 22.7) (array([14.538414], dtype=float32), 12.5) (array([20.063696], dtype=float32), 24.3) (array([39.375813], dtype=float32), 43.8) (array([24.294321], dtype=float32), 22.0) (array([34.79999], dtype=float32), 33.8) (array([19.17543], dtype=float32), 19.3) (array([19.038475], dtype=float32), 22.6) (array([21.501461], dtype=float32), 16.1) (array([21.652798], dtype=float32), 15.0) (array([18.682482], dtype=float32), 19.6) (array([20.705946], dtype=float32), 21.2) (array([51.282417], dtype=float32), 50.0) (array([56.41898], dtype=float32), 50.0) (array([27.525892], dtype=float32), 29.4) (array([14.750885], dtype=float32), 17.8) (array([25.318687], dtype=float32), 22.8) (array([12.96361], dtype=float32), 8.8) (array([27.305706], dtype=float32), 32.5) (array([40.03885], dtype=float32), 42.8) (array([16.59288], dtype=float32), 12.6) (array([28.080154], dtype=float32), 28.6) (array([17.807205], dtype=float32), 19.1) (array([21.753109], dtype=float32), 50.0) (array([21.571077], dtype=float32), 27.5) (array([12.096077], dtype=float32), 23.7) (array([48.508904], dtype=float32), 50.0) (array([9.985698], dtype=float32), 7.2) (array([19.874577], dtype=float32), 18.7) (array([32.60646], dtype=float32), 37.0) (array([19.934845], dtype=float32), 22.9) (array([25.311596], dtype=float32), 22.9) (array([19.40749], dtype=float32), 17.1) (array([24.325525], dtype=float32), 22.0) (array([31.261663], dtype=float32), 23.6) (array([25.826254], dtype=float32), 23.9) (array([25.784142], dtype=float32), 27.1) (array([34.34754], dtype=float32), 29.0) (array([24.432964], dtype=float32), 22.2) (array([10.795143], dtype=float32), 7.0) (array([23.50785], dtype=float32), 20.7) (array([20.784752], dtype=float32), 18.5) (array([23.722557], dtype=float32), 21.6) (array([24.824629], dtype=float32), 23.0) (array([18.709703], dtype=float32), 16.0) (array([19.245256], dtype=float32), 15.0) (array([25.694992], dtype=float32), 23.9) (array([19.101242], dtype=float32), 24.4) (array([20.874474], dtype=float32), 22.6) (array([18.772146], dtype=float32), 19.8) (array([21.442122], dtype=float32), 22.2) (array([19.928005], dtype=float32), 18.6) (array([19.116776], dtype=float32), 19.7) (array([25.884085], dtype=float32), 23.1) (array([13.413149], dtype=float32), 13.5) (array([20.972702], dtype=float32), 21.2) (array([18.50492], dtype=float32), 23.1) (array([15.444061], dtype=float32), 13.6) (array([28.815447], dtype=float32), 22.8) (array([23.305725], dtype=float32), 18.2) (array([11.643665], dtype=float32), 13.1) (array([17.802876], dtype=float32), 23.2) (array([24.75961], dtype=float32), 22.8) (array([24.524181], dtype=float32), 25.1) (array([21.845583], dtype=float32), 18.9) (array([13.469408], dtype=float32), 10.9) (array([14.256247], dtype=float32), 19.3) (array([20.1526], dtype=float32), 17.4) (array([18.287245], dtype=float32), 15.6) (array([20.14138], dtype=float32), 20.6) (array([29.882332], dtype=float32), 50.0) (array([35.388004], dtype=float32), 32.7) (array([20.82003], dtype=float32), 21.8) (array([15.874554], dtype=float32), 13.4) (array([17.428934], dtype=float32), 16.6) (array([23.263603], dtype=float32), 23.6) (array([12.819157], dtype=float32), 11.0)\n"
     ]
    }
   ],
   "source": [
    "print(*zip(y_pred,y_test))"
   ]
  },
  {
   "cell_type": "code",
   "execution_count": 51,
   "id": "fbaee296",
   "metadata": {},
   "outputs": [
    {
     "name": "stdout",
     "output_type": "stream",
     "text": [
      "4/4 [==============================] - 0s 4ms/step\n"
     ]
    },
    {
     "data": {
      "text/plain": [
       "[<matplotlib.lines.Line2D at 0x7fadf9317520>]"
      ]
     },
     "execution_count": 51,
     "metadata": {},
     "output_type": "execute_result"
    },
    {
     "data": {
      "image/png": "[encoded data removed]",
      "text/plain": [
       "<Figure size 640x480 with 1 Axes>"
      ]
     },
     "metadata": {},
     "output_type": "display_data"
    }
   ],
   "source": [
    "y_pred = model.predict(x_test).flatten()\n",
    "a = plt.axes(aspect='equal')\n",
    "plt.scatter(y_test, y_pred)\n",
    "plt.xlabel('True values')\n",
    "plt.ylabel('Predicted values')\n",
    "plt.title('A plot that shows the true and predicted values')\n",
    "plt.xlim([0, 60])\n",
    "plt.ylim([0, 60])\n",
    "plt.plot([0, 60], [0, 60])"
   ]
  },
  {
   "cell_type": "code",
   "execution_count": null,
   "id": "ddb065a8",
   "metadata": {},
   "outputs": [],
   "source": []
  },
  {
   "cell_type": "code",
   "execution_count": null,
   "id": "6706fc77",
   "metadata": {},
   "outputs": [],
   "source": []
  }
 ],
 "metadata": {
  "kernelspec": {
   "display_name": "Python 3 (ipykernel)",
   "language": "python",
   "name": "python3"
  },
  "language_info": {
   "codemirror_mode": {
    "name": "ipython",
    "version": 3
   },
   "file_extension": ".py",
   "mimetype": "text/x-python",
   "name": "python",
   "nbconvert_exporter": "python",
   "pygments_lexer": "ipython3",
   "version": "3.10.6"
  }
 },
 "nbformat": 4,
 "nbformat_minor": 5
}
