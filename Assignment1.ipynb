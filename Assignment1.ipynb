{
 "cells": [
  {
   "cell_type": "code",
   "execution_count": 20,
   "id": "104a494b",
   "metadata": {},
   "outputs": [
    {
     "name": "stdout",
     "output_type": "stream",
     "text": [
      "Defaulting to user installation because normal site-packages is not writeable\n",
      "Requirement already satisfied: scikit-learn in /home/amardip/.local/lib/python3.10/site-packages (1.2.2)\n",
      "Requirement already satisfied: numpy>=1.17.3 in /home/amardip/.local/lib/python3.10/site-packages (from scikit-learn) (1.23.5)\n",
      "Requirement already satisfied: scipy>=1.3.2 in /home/amardip/.local/lib/python3.10/site-packages (from scikit-learn) (1.10.1)\n",
      "Requirement already satisfied: joblib>=1.1.1 in /home/amardip/.local/lib/python3.10/site-packages (from scikit-learn) (1.2.0)\n",
      "Requirement already satisfied: threadpoolctl>=2.0.0 in /home/amardip/.local/lib/python3.10/site-packages (from scikit-learn) (3.1.0)\n",
      "Note: you may need to restart the kernel to use updated packages.\n"
     ]
    }
   ],
   "source": [
    "pip install -U scikit-learn"
   ]
  },
  {
   "cell_type": "code",
   "execution_count": 21,
   "id": "36e90601",
   "metadata": {},
   "outputs": [],
   "source": [
    "import pandas as pd\n",
    "import matplotlib.pyplot as plt"
   ]
  },
  {
   "cell_type": "markdown",
   "id": "09c0d469",
   "metadata": {},
   "source": [
    "### Load Dataset"
   ]
  },
  {
   "cell_type": "code",
   "execution_count": 22,
   "id": "64638d93",
   "metadata": {},
   "outputs": [
    {
     "data": {
      "text/html": [
       "<div>\n",
       "<style scoped>\n",
       "    .dataframe tbody tr th:only-of-type {\n",
       "        vertical-align: middle;\n",
       "    }\n",
       "\n",
       "    .dataframe tbody tr th {\n",
       "        vertical-align: top;\n",
       "    }\n",
       "\n",
       "    .dataframe thead th {\n",
       "        text-align: right;\n",
       "    }\n",
       "</style>\n",
       "<table border=\"1\" class=\"dataframe\">\n",
       "  <thead>\n",
       "    <tr style=\"text-align: right;\">\n",
       "      <th></th>\n",
       "      <th>CRIM</th>\n",
       "      <th>ZN</th>\n",
       "      <th>INDUS</th>\n",
       "      <th>CHAS</th>\n",
       "      <th>NOX</th>\n",
       "      <th>RM</th>\n",
       "      <th>AGE</th>\n",
       "      <th>DIS</th>\n",
       "      <th>RAD</th>\n",
       "      <th>TAX</th>\n",
       "      <th>PTRATIO</th>\n",
       "      <th>B</th>\n",
       "      <th>LSTAT</th>\n",
       "      <th>MEDV</th>\n",
       "      <th>CAT. MEDV</th>\n",
       "      <th>Unnamed: 15</th>\n",
       "      <th>Unnamed: 16</th>\n",
       "    </tr>\n",
       "  </thead>\n",
       "  <tbody>\n",
       "    <tr>\n",
       "      <th>0</th>\n",
       "      <td>0.00632</td>\n",
       "      <td>18.0</td>\n",
       "      <td>2.31</td>\n",
       "      <td>0</td>\n",
       "      <td>0.538</td>\n",
       "      <td>6.575</td>\n",
       "      <td>65.2</td>\n",
       "      <td>4.0900</td>\n",
       "      <td>1</td>\n",
       "      <td>296</td>\n",
       "      <td>15.3</td>\n",
       "      <td>396.90</td>\n",
       "      <td>4.98</td>\n",
       "      <td>24.0</td>\n",
       "      <td>0</td>\n",
       "      <td>NaN</td>\n",
       "      <td>NaN</td>\n",
       "    </tr>\n",
       "    <tr>\n",
       "      <th>1</th>\n",
       "      <td>0.02731</td>\n",
       "      <td>0.0</td>\n",
       "      <td>7.07</td>\n",
       "      <td>0</td>\n",
       "      <td>0.469</td>\n",
       "      <td>6.421</td>\n",
       "      <td>78.9</td>\n",
       "      <td>4.9671</td>\n",
       "      <td>2</td>\n",
       "      <td>242</td>\n",
       "      <td>17.8</td>\n",
       "      <td>396.90</td>\n",
       "      <td>9.14</td>\n",
       "      <td>21.6</td>\n",
       "      <td>0</td>\n",
       "      <td>NaN</td>\n",
       "      <td>NaN</td>\n",
       "    </tr>\n",
       "    <tr>\n",
       "      <th>2</th>\n",
       "      <td>0.02729</td>\n",
       "      <td>0.0</td>\n",
       "      <td>7.07</td>\n",
       "      <td>0</td>\n",
       "      <td>0.469</td>\n",
       "      <td>7.185</td>\n",
       "      <td>61.1</td>\n",
       "      <td>4.9671</td>\n",
       "      <td>2</td>\n",
       "      <td>242</td>\n",
       "      <td>17.8</td>\n",
       "      <td>392.83</td>\n",
       "      <td>4.03</td>\n",
       "      <td>34.7</td>\n",
       "      <td>1</td>\n",
       "      <td>NaN</td>\n",
       "      <td>NaN</td>\n",
       "    </tr>\n",
       "    <tr>\n",
       "      <th>3</th>\n",
       "      <td>0.03237</td>\n",
       "      <td>0.0</td>\n",
       "      <td>2.18</td>\n",
       "      <td>0</td>\n",
       "      <td>0.458</td>\n",
       "      <td>6.998</td>\n",
       "      <td>45.8</td>\n",
       "      <td>6.0622</td>\n",
       "      <td>3</td>\n",
       "      <td>222</td>\n",
       "      <td>18.7</td>\n",
       "      <td>394.63</td>\n",
       "      <td>2.94</td>\n",
       "      <td>33.4</td>\n",
       "      <td>1</td>\n",
       "      <td>NaN</td>\n",
       "      <td>NaN</td>\n",
       "    </tr>\n",
       "    <tr>\n",
       "      <th>4</th>\n",
       "      <td>0.06905</td>\n",
       "      <td>0.0</td>\n",
       "      <td>2.18</td>\n",
       "      <td>0</td>\n",
       "      <td>0.458</td>\n",
       "      <td>7.147</td>\n",
       "      <td>54.2</td>\n",
       "      <td>6.0622</td>\n",
       "      <td>3</td>\n",
       "      <td>222</td>\n",
       "      <td>18.7</td>\n",
       "      <td>396.90</td>\n",
       "      <td>5.33</td>\n",
       "      <td>36.2</td>\n",
       "      <td>1</td>\n",
       "      <td>NaN</td>\n",
       "      <td>NaN</td>\n",
       "    </tr>\n",
       "    <tr>\n",
       "      <th>5</th>\n",
       "      <td>0.02985</td>\n",
       "      <td>0.0</td>\n",
       "      <td>2.18</td>\n",
       "      <td>0</td>\n",
       "      <td>0.458</td>\n",
       "      <td>6.430</td>\n",
       "      <td>58.7</td>\n",
       "      <td>6.0622</td>\n",
       "      <td>3</td>\n",
       "      <td>222</td>\n",
       "      <td>18.7</td>\n",
       "      <td>394.12</td>\n",
       "      <td>5.21</td>\n",
       "      <td>28.7</td>\n",
       "      <td>0</td>\n",
       "      <td>NaN</td>\n",
       "      <td>NaN</td>\n",
       "    </tr>\n",
       "    <tr>\n",
       "      <th>6</th>\n",
       "      <td>0.08829</td>\n",
       "      <td>12.5</td>\n",
       "      <td>7.87</td>\n",
       "      <td>0</td>\n",
       "      <td>0.524</td>\n",
       "      <td>6.012</td>\n",
       "      <td>66.6</td>\n",
       "      <td>5.5605</td>\n",
       "      <td>5</td>\n",
       "      <td>311</td>\n",
       "      <td>15.2</td>\n",
       "      <td>395.60</td>\n",
       "      <td>12.43</td>\n",
       "      <td>22.9</td>\n",
       "      <td>0</td>\n",
       "      <td>NaN</td>\n",
       "      <td>NaN</td>\n",
       "    </tr>\n",
       "    <tr>\n",
       "      <th>7</th>\n",
       "      <td>0.14455</td>\n",
       "      <td>12.5</td>\n",
       "      <td>7.87</td>\n",
       "      <td>0</td>\n",
       "      <td>0.524</td>\n",
       "      <td>6.172</td>\n",
       "      <td>96.1</td>\n",
       "      <td>5.9505</td>\n",
       "      <td>5</td>\n",
       "      <td>311</td>\n",
       "      <td>15.2</td>\n",
       "      <td>396.90</td>\n",
       "      <td>19.15</td>\n",
       "      <td>27.1</td>\n",
       "      <td>0</td>\n",
       "      <td>NaN</td>\n",
       "      <td>NaN</td>\n",
       "    </tr>\n",
       "    <tr>\n",
       "      <th>8</th>\n",
       "      <td>0.21124</td>\n",
       "      <td>12.5</td>\n",
       "      <td>7.87</td>\n",
       "      <td>0</td>\n",
       "      <td>0.524</td>\n",
       "      <td>5.631</td>\n",
       "      <td>100.0</td>\n",
       "      <td>6.0821</td>\n",
       "      <td>5</td>\n",
       "      <td>311</td>\n",
       "      <td>15.2</td>\n",
       "      <td>386.63</td>\n",
       "      <td>29.93</td>\n",
       "      <td>16.5</td>\n",
       "      <td>0</td>\n",
       "      <td>NaN</td>\n",
       "      <td>NaN</td>\n",
       "    </tr>\n",
       "    <tr>\n",
       "      <th>9</th>\n",
       "      <td>0.17004</td>\n",
       "      <td>12.5</td>\n",
       "      <td>7.87</td>\n",
       "      <td>0</td>\n",
       "      <td>0.524</td>\n",
       "      <td>6.004</td>\n",
       "      <td>85.9</td>\n",
       "      <td>6.5921</td>\n",
       "      <td>5</td>\n",
       "      <td>311</td>\n",
       "      <td>15.2</td>\n",
       "      <td>386.71</td>\n",
       "      <td>17.10</td>\n",
       "      <td>18.9</td>\n",
       "      <td>0</td>\n",
       "      <td>NaN</td>\n",
       "      <td>NaN</td>\n",
       "    </tr>\n",
       "  </tbody>\n",
       "</table>\n",
       "</div>"
      ],
      "text/plain": [
       "      CRIM    ZN  INDUS  CHAS    NOX     RM    AGE     DIS  RAD  TAX  PTRATIO   \n",
       "0  0.00632  18.0   2.31     0  0.538  6.575   65.2  4.0900    1  296     15.3  \\\n",
       "1  0.02731   0.0   7.07     0  0.469  6.421   78.9  4.9671    2  242     17.8   \n",
       "2  0.02729   0.0   7.07     0  0.469  7.185   61.1  4.9671    2  242     17.8   \n",
       "3  0.03237   0.0   2.18     0  0.458  6.998   45.8  6.0622    3  222     18.7   \n",
       "4  0.06905   0.0   2.18     0  0.458  7.147   54.2  6.0622    3  222     18.7   \n",
       "5  0.02985   0.0   2.18     0  0.458  6.430   58.7  6.0622    3  222     18.7   \n",
       "6  0.08829  12.5   7.87     0  0.524  6.012   66.6  5.5605    5  311     15.2   \n",
       "7  0.14455  12.5   7.87     0  0.524  6.172   96.1  5.9505    5  311     15.2   \n",
       "8  0.21124  12.5   7.87     0  0.524  5.631  100.0  6.0821    5  311     15.2   \n",
       "9  0.17004  12.5   7.87     0  0.524  6.004   85.9  6.5921    5  311     15.2   \n",
       "\n",
       "        B  LSTAT  MEDV  CAT. MEDV  Unnamed: 15  Unnamed: 16  \n",
       "0  396.90   4.98  24.0          0          NaN          NaN  \n",
       "1  396.90   9.14  21.6          0          NaN          NaN  \n",
       "2  392.83   4.03  34.7          1          NaN          NaN  \n",
       "3  394.63   2.94  33.4          1          NaN          NaN  \n",
       "4  396.90   5.33  36.2          1          NaN          NaN  \n",
       "5  394.12   5.21  28.7          0          NaN          NaN  \n",
       "6  395.60  12.43  22.9          0          NaN          NaN  \n",
       "7  396.90  19.15  27.1          0          NaN          NaN  \n",
       "8  386.63  29.93  16.5          0          NaN          NaN  \n",
       "9  386.71  17.10  18.9          0          NaN          NaN  "
      ]
     },
     "execution_count": 22,
     "metadata": {},
     "output_type": "execute_result"
    }
   ],
   "source": [
    "df = pd.read_csv('/home/amardip/Desktop/Boston.csv')\n",
    "df.head(10)"
   ]
  },
  {
   "cell_type": "code",
   "execution_count": 23,
   "id": "55426a1b",
   "metadata": {},
   "outputs": [],
   "source": [
    "df.drop(columns=['Unnamed: 15','Unnamed: 16'],inplace=True)"
   ]
  },
  {
   "cell_type": "code",
   "execution_count": 24,
   "id": "dade5278",
   "metadata": {},
   "outputs": [],
   "source": [
    "df.drop(columns=['CAT. MEDV'],inplace=True)"
   ]
  },
  {
   "cell_type": "markdown",
   "id": "17d566fe",
   "metadata": {},
   "source": [
    "#### Checking for null values"
   ]
  },
  {
   "cell_type": "code",
   "execution_count": 25,
   "id": "e4792737",
   "metadata": {},
   "outputs": [
    {
     "data": {
      "text/plain": [
       "CRIM       0\n",
       "ZN         0\n",
       "INDUS      0\n",
       "CHAS       0\n",
       "NOX        0\n",
       "RM         0\n",
       "AGE        0\n",
       "DIS        0\n",
       "RAD        0\n",
       "TAX        0\n",
       "PTRATIO    0\n",
       "B          0\n",
       "LSTAT      0\n",
       "MEDV       0\n",
       "dtype: int64"
      ]
     },
     "execution_count": 25,
     "metadata": {},
     "output_type": "execute_result"
    }
   ],
   "source": [
    "df.isnull().sum()"
   ]
  },
  {
   "cell_type": "code",
   "execution_count": 26,
   "id": "036b309e",
   "metadata": {},
   "outputs": [
    {
     "name": "stdout",
     "output_type": "stream",
     "text": [
      "<class 'pandas.core.frame.DataFrame'>\n",
      "RangeIndex: 506 entries, 0 to 505\n",
      "Data columns (total 14 columns):\n",
      " #   Column   Non-Null Count  Dtype  \n",
      "---  ------   --------------  -----  \n",
      " 0   CRIM     506 non-null    float64\n",
      " 1   ZN       506 non-null    float64\n",
      " 2   INDUS    506 non-null    float64\n",
      " 3   CHAS     506 non-null    int64  \n",
      " 4   NOX      506 non-null    float64\n",
      " 5   RM       506 non-null    float64\n",
      " 6   AGE      506 non-null    float64\n",
      " 7   DIS      506 non-null    float64\n",
      " 8   RAD      506 non-null    int64  \n",
      " 9   TAX      506 non-null    int64  \n",
      " 10  PTRATIO  506 non-null    float64\n",
      " 11  B        506 non-null    float64\n",
      " 12  LSTAT    506 non-null    float64\n",
      " 13  MEDV     506 non-null    float64\n",
      "dtypes: float64(11), int64(3)\n",
      "memory usage: 55.5 KB\n"
     ]
    }
   ],
   "source": [
    "df.info()"
   ]
  },
  {
   "cell_type": "code",
   "execution_count": 27,
   "id": "851ae670",
   "metadata": {},
   "outputs": [
    {
     "data": {
      "text/html": [
       "<div>\n",
       "<style scoped>\n",
       "    .dataframe tbody tr th:only-of-type {\n",
       "        vertical-align: middle;\n",
       "    }\n",
       "\n",
       "    .dataframe tbody tr th {\n",
       "        vertical-align: top;\n",
       "    }\n",
       "\n",
       "    .dataframe thead th {\n",
       "        text-align: right;\n",
       "    }\n",
       "</style>\n",
       "<table border=\"1\" class=\"dataframe\">\n",
       "  <thead>\n",
       "    <tr style=\"text-align: right;\">\n",
       "      <th></th>\n",
       "      <th>CRIM</th>\n",
       "      <th>ZN</th>\n",
       "      <th>INDUS</th>\n",
       "      <th>CHAS</th>\n",
       "      <th>NOX</th>\n",
       "      <th>RM</th>\n",
       "      <th>AGE</th>\n",
       "      <th>DIS</th>\n",
       "      <th>RAD</th>\n",
       "      <th>TAX</th>\n",
       "      <th>PTRATIO</th>\n",
       "      <th>B</th>\n",
       "      <th>LSTAT</th>\n",
       "      <th>MEDV</th>\n",
       "    </tr>\n",
       "  </thead>\n",
       "  <tbody>\n",
       "    <tr>\n",
       "      <th>count</th>\n",
       "      <td>506.000000</td>\n",
       "      <td>506.000000</td>\n",
       "      <td>506.000000</td>\n",
       "      <td>506.000000</td>\n",
       "      <td>506.000000</td>\n",
       "      <td>506.000000</td>\n",
       "      <td>506.000000</td>\n",
       "      <td>506.000000</td>\n",
       "      <td>506.000000</td>\n",
       "      <td>506.000000</td>\n",
       "      <td>506.000000</td>\n",
       "      <td>506.000000</td>\n",
       "      <td>506.000000</td>\n",
       "      <td>506.000000</td>\n",
       "    </tr>\n",
       "    <tr>\n",
       "      <th>mean</th>\n",
       "      <td>3.613524</td>\n",
       "      <td>11.363636</td>\n",
       "      <td>11.136779</td>\n",
       "      <td>0.069170</td>\n",
       "      <td>0.554695</td>\n",
       "      <td>6.284634</td>\n",
       "      <td>68.574901</td>\n",
       "      <td>3.795043</td>\n",
       "      <td>9.549407</td>\n",
       "      <td>408.237154</td>\n",
       "      <td>18.455534</td>\n",
       "      <td>356.674032</td>\n",
       "      <td>12.653063</td>\n",
       "      <td>22.532806</td>\n",
       "    </tr>\n",
       "    <tr>\n",
       "      <th>std</th>\n",
       "      <td>8.601545</td>\n",
       "      <td>23.322453</td>\n",
       "      <td>6.860353</td>\n",
       "      <td>0.253994</td>\n",
       "      <td>0.115878</td>\n",
       "      <td>0.702617</td>\n",
       "      <td>28.148861</td>\n",
       "      <td>2.105710</td>\n",
       "      <td>8.707259</td>\n",
       "      <td>168.537116</td>\n",
       "      <td>2.164946</td>\n",
       "      <td>91.294864</td>\n",
       "      <td>7.141062</td>\n",
       "      <td>9.197104</td>\n",
       "    </tr>\n",
       "    <tr>\n",
       "      <th>min</th>\n",
       "      <td>0.006320</td>\n",
       "      <td>0.000000</td>\n",
       "      <td>0.460000</td>\n",
       "      <td>0.000000</td>\n",
       "      <td>0.385000</td>\n",
       "      <td>3.561000</td>\n",
       "      <td>2.900000</td>\n",
       "      <td>1.129600</td>\n",
       "      <td>1.000000</td>\n",
       "      <td>187.000000</td>\n",
       "      <td>12.600000</td>\n",
       "      <td>0.320000</td>\n",
       "      <td>1.730000</td>\n",
       "      <td>5.000000</td>\n",
       "    </tr>\n",
       "    <tr>\n",
       "      <th>25%</th>\n",
       "      <td>0.082045</td>\n",
       "      <td>0.000000</td>\n",
       "      <td>5.190000</td>\n",
       "      <td>0.000000</td>\n",
       "      <td>0.449000</td>\n",
       "      <td>5.885500</td>\n",
       "      <td>45.025000</td>\n",
       "      <td>2.100175</td>\n",
       "      <td>4.000000</td>\n",
       "      <td>279.000000</td>\n",
       "      <td>17.400000</td>\n",
       "      <td>375.377500</td>\n",
       "      <td>6.950000</td>\n",
       "      <td>17.025000</td>\n",
       "    </tr>\n",
       "    <tr>\n",
       "      <th>50%</th>\n",
       "      <td>0.256510</td>\n",
       "      <td>0.000000</td>\n",
       "      <td>9.690000</td>\n",
       "      <td>0.000000</td>\n",
       "      <td>0.538000</td>\n",
       "      <td>6.208500</td>\n",
       "      <td>77.500000</td>\n",
       "      <td>3.207450</td>\n",
       "      <td>5.000000</td>\n",
       "      <td>330.000000</td>\n",
       "      <td>19.050000</td>\n",
       "      <td>391.440000</td>\n",
       "      <td>11.360000</td>\n",
       "      <td>21.200000</td>\n",
       "    </tr>\n",
       "    <tr>\n",
       "      <th>75%</th>\n",
       "      <td>3.677083</td>\n",
       "      <td>12.500000</td>\n",
       "      <td>18.100000</td>\n",
       "      <td>0.000000</td>\n",
       "      <td>0.624000</td>\n",
       "      <td>6.623500</td>\n",
       "      <td>94.075000</td>\n",
       "      <td>5.188425</td>\n",
       "      <td>24.000000</td>\n",
       "      <td>666.000000</td>\n",
       "      <td>20.200000</td>\n",
       "      <td>396.225000</td>\n",
       "      <td>16.955000</td>\n",
       "      <td>25.000000</td>\n",
       "    </tr>\n",
       "    <tr>\n",
       "      <th>max</th>\n",
       "      <td>88.976200</td>\n",
       "      <td>100.000000</td>\n",
       "      <td>27.740000</td>\n",
       "      <td>1.000000</td>\n",
       "      <td>0.871000</td>\n",
       "      <td>8.780000</td>\n",
       "      <td>100.000000</td>\n",
       "      <td>12.126500</td>\n",
       "      <td>24.000000</td>\n",
       "      <td>711.000000</td>\n",
       "      <td>22.000000</td>\n",
       "      <td>396.900000</td>\n",
       "      <td>37.970000</td>\n",
       "      <td>50.000000</td>\n",
       "    </tr>\n",
       "  </tbody>\n",
       "</table>\n",
       "</div>"
      ],
      "text/plain": [
       "             CRIM          ZN       INDUS        CHAS         NOX          RM   \n",
       "count  506.000000  506.000000  506.000000  506.000000  506.000000  506.000000  \\\n",
       "mean     3.613524   11.363636   11.136779    0.069170    0.554695    6.284634   \n",
       "std      8.601545   23.322453    6.860353    0.253994    0.115878    0.702617   \n",
       "min      0.006320    0.000000    0.460000    0.000000    0.385000    3.561000   \n",
       "25%      0.082045    0.000000    5.190000    0.000000    0.449000    5.885500   \n",
       "50%      0.256510    0.000000    9.690000    0.000000    0.538000    6.208500   \n",
       "75%      3.677083   12.500000   18.100000    0.000000    0.624000    6.623500   \n",
       "max     88.976200  100.000000   27.740000    1.000000    0.871000    8.780000   \n",
       "\n",
       "              AGE         DIS         RAD         TAX     PTRATIO           B   \n",
       "count  506.000000  506.000000  506.000000  506.000000  506.000000  506.000000  \\\n",
       "mean    68.574901    3.795043    9.549407  408.237154   18.455534  356.674032   \n",
       "std     28.148861    2.105710    8.707259  168.537116    2.164946   91.294864   \n",
       "min      2.900000    1.129600    1.000000  187.000000   12.600000    0.320000   \n",
       "25%     45.025000    2.100175    4.000000  279.000000   17.400000  375.377500   \n",
       "50%     77.500000    3.207450    5.000000  330.000000   19.050000  391.440000   \n",
       "75%     94.075000    5.188425   24.000000  666.000000   20.200000  396.225000   \n",
       "max    100.000000   12.126500   24.000000  711.000000   22.000000  396.900000   \n",
       "\n",
       "            LSTAT        MEDV  \n",
       "count  506.000000  506.000000  \n",
       "mean    12.653063   22.532806  \n",
       "std      7.141062    9.197104  \n",
       "min      1.730000    5.000000  \n",
       "25%      6.950000   17.025000  \n",
       "50%     11.360000   21.200000  \n",
       "75%     16.955000   25.000000  \n",
       "max     37.970000   50.000000  "
      ]
     },
     "execution_count": 27,
     "metadata": {},
     "output_type": "execute_result"
    }
   ],
   "source": [
    "df.describe()"
   ]
  },
  {
   "cell_type": "markdown",
   "id": "44bc6735",
   "metadata": {},
   "source": [
    "#### Checking correlation with target variable MEDV"
   ]
  },
  {
   "cell_type": "code",
   "execution_count": 28,
   "id": "64ef4b15",
   "metadata": {},
   "outputs": [
    {
     "data": {
      "text/plain": [
       "LSTAT     -0.737663\n",
       "PTRATIO   -0.507787\n",
       "INDUS     -0.483725\n",
       "TAX       -0.468536\n",
       "NOX       -0.427321\n",
       "CRIM      -0.388305\n",
       "RAD       -0.381626\n",
       "AGE       -0.376955\n",
       "CHAS       0.175260\n",
       "DIS        0.249929\n",
       "B          0.333461\n",
       "ZN         0.360445\n",
       "RM         0.695360\n",
       "MEDV       1.000000\n",
       "Name: MEDV, dtype: float64"
      ]
     },
     "execution_count": 28,
     "metadata": {},
     "output_type": "execute_result"
    }
   ],
   "source": [
    "df.corr()['MEDV'].sort_values()"
   ]
  },
  {
   "cell_type": "code",
   "execution_count": 29,
   "id": "7168e688",
   "metadata": {},
   "outputs": [
    {
     "data": {
      "text/plain": [
       "((506, 3), (506,))"
      ]
     },
     "execution_count": 29,
     "metadata": {},
     "output_type": "execute_result"
    }
   ],
   "source": [
    "X = df.loc[:,['LSTAT','PTRATIO','RM']]\n",
    "Y = df.loc[:,\"MEDV\"]\n",
    "X.shape,Y.shape"
   ]
  },
  {
   "cell_type": "markdown",
   "id": "08648c29",
   "metadata": {},
   "source": [
    "### Preparing training and testing data set"
   ]
  },
  {
   "cell_type": "code",
   "execution_count": 30,
   "id": "cecea370",
   "metadata": {},
   "outputs": [],
   "source": [
    "from sklearn.model_selection import train_test_split\n",
    "x_train,x_test,y_train,y_test = train_test_split(X,Y,test_size=0.25,random_state=10)"
   ]
  },
  {
   "cell_type": "markdown",
   "id": "7eabb9f2",
   "metadata": {},
   "source": [
    "### Normalizing training and testing dataset"
   ]
  },
  {
   "cell_type": "code",
   "execution_count": 31,
   "id": "926fe0ce",
   "metadata": {},
   "outputs": [],
   "source": [
    "from sklearn.preprocessing import StandardScaler"
   ]
  },
  {
   "cell_type": "code",
   "execution_count": 32,
   "id": "1e49c4a2",
   "metadata": {},
   "outputs": [],
   "source": [
    "scaler = StandardScaler()"
   ]
  },
  {
   "cell_type": "code",
   "execution_count": 33,
   "id": "b99b26de",
   "metadata": {},
   "outputs": [
    {
     "data": {
      "text/html": [
       "<style>#sk-container-id-1 {color: black;background-color: white;}#sk-container-id-1 pre{padding: 0;}#sk-container-id-1 div.sk-toggleable {background-color: white;}#sk-container-id-1 label.sk-toggleable__label {cursor: pointer;display: block;width: 100%;margin-bottom: 0;padding: 0.3em;box-sizing: border-box;text-align: center;}#sk-container-id-1 label.sk-toggleable__label-arrow:before {content: \"▸\";float: left;margin-right: 0.25em;color: #696969;}#sk-container-id-1 label.sk-toggleable__label-arrow:hover:before {color: black;}#sk-container-id-1 div.sk-estimator:hover label.sk-toggleable__label-arrow:before {color: black;}#sk-container-id-1 div.sk-toggleable__content {max-height: 0;max-width: 0;overflow: hidden;text-align: left;background-color: #f0f8ff;}#sk-container-id-1 div.sk-toggleable__content pre {margin: 0.2em;color: black;border-radius: 0.25em;background-color: #f0f8ff;}#sk-container-id-1 input.sk-toggleable__control:checked~div.sk-toggleable__content {max-height: 200px;max-width: 100%;overflow: auto;}#sk-container-id-1 input.sk-toggleable__control:checked~label.sk-toggleable__label-arrow:before {content: \"▾\";}#sk-container-id-1 div.sk-estimator input.sk-toggleable__control:checked~label.sk-toggleable__label {background-color: #d4ebff;}#sk-container-id-1 div.sk-label input.sk-toggleable__control:checked~label.sk-toggleable__label {background-color: #d4ebff;}#sk-container-id-1 input.sk-hidden--visually {border: 0;clip: rect(1px 1px 1px 1px);clip: rect(1px, 1px, 1px, 1px);height: 1px;margin: -1px;overflow: hidden;padding: 0;position: absolute;width: 1px;}#sk-container-id-1 div.sk-estimator {font-family: monospace;background-color: #f0f8ff;border: 1px dotted black;border-radius: 0.25em;box-sizing: border-box;margin-bottom: 0.5em;}#sk-container-id-1 div.sk-estimator:hover {background-color: #d4ebff;}#sk-container-id-1 div.sk-parallel-item::after {content: \"\";width: 100%;border-bottom: 1px solid gray;flex-grow: 1;}#sk-container-id-1 div.sk-label:hover label.sk-toggleable__label {background-color: #d4ebff;}#sk-container-id-1 div.sk-serial::before {content: \"\";position: absolute;border-left: 1px solid gray;box-sizing: border-box;top: 0;bottom: 0;left: 50%;z-index: 0;}#sk-container-id-1 div.sk-serial {display: flex;flex-direction: column;align-items: center;background-color: white;padding-right: 0.2em;padding-left: 0.2em;position: relative;}#sk-container-id-1 div.sk-item {position: relative;z-index: 1;}#sk-container-id-1 div.sk-parallel {display: flex;align-items: stretch;justify-content: center;background-color: white;position: relative;}#sk-container-id-1 div.sk-item::before, #sk-container-id-1 div.sk-parallel-item::before {content: \"\";position: absolute;border-left: 1px solid gray;box-sizing: border-box;top: 0;bottom: 0;left: 50%;z-index: -1;}#sk-container-id-1 div.sk-parallel-item {display: flex;flex-direction: column;z-index: 1;position: relative;background-color: white;}#sk-container-id-1 div.sk-parallel-item:first-child::after {align-self: flex-end;width: 50%;}#sk-container-id-1 div.sk-parallel-item:last-child::after {align-self: flex-start;width: 50%;}#sk-container-id-1 div.sk-parallel-item:only-child::after {width: 0;}#sk-container-id-1 div.sk-dashed-wrapped {border: 1px dashed gray;margin: 0 0.4em 0.5em 0.4em;box-sizing: border-box;padding-bottom: 0.4em;background-color: white;}#sk-container-id-1 div.sk-label label {font-family: monospace;font-weight: bold;display: inline-block;line-height: 1.2em;}#sk-container-id-1 div.sk-label-container {text-align: center;}#sk-container-id-1 div.sk-container {/* jupyter's `normalize.less` sets `[hidden] { display: none; }` but bootstrap.min.css set `[hidden] { display: none !important; }` so we also need the `!important` here to be able to override the default hidden behavior on the sphinx rendered scikit-learn.org. See: https://github.com/scikit-learn/scikit-learn/issues/21755 */display: inline-block !important;position: relative;}#sk-container-id-1 div.sk-text-repr-fallback {display: none;}</style><div id=\"sk-container-id-1\" class=\"sk-top-container\"><div class=\"sk-text-repr-fallback\"><pre>StandardScaler()</pre><b>In a Jupyter environment, please rerun this cell to show the HTML representation or trust the notebook. <br />On GitHub, the HTML representation is unable to render, please try loading this page with nbviewer.org.</b></div><div class=\"sk-container\" hidden><div class=\"sk-item\"><div class=\"sk-estimator sk-toggleable\"><input class=\"sk-toggleable__control sk-hidden--visually\" id=\"sk-estimator-id-1\" type=\"checkbox\" checked><label for=\"sk-estimator-id-1\" class=\"sk-toggleable__label sk-toggleable__label-arrow\">StandardScaler</label><div class=\"sk-toggleable__content\"><pre>StandardScaler()</pre></div></div></div></div></div>"
      ],
      "text/plain": [
       "StandardScaler()"
      ]
     },
     "execution_count": 33,
     "metadata": {},
     "output_type": "execute_result"
    }
   ],
   "source": [
    "scaler.fit(x_train)"
   ]
  },
  {
   "cell_type": "code",
   "execution_count": 34,
   "id": "eece8526",
   "metadata": {},
   "outputs": [],
   "source": [
    "x_train = scaler.transform(x_train)\n",
    "x_test = scaler.transform(x_test)"
   ]
  },
  {
   "cell_type": "markdown",
   "id": "a1ed18cc",
   "metadata": {},
   "source": [
    "### Preparing model"
   ]
  },
  {
   "cell_type": "code",
   "execution_count": 39,
   "id": "1243c6f8",
   "metadata": {},
   "outputs": [],
   "source": [
    "from keras.models import Sequential\n",
    "from keras.layers import Dense"
   ]
  },
  {
   "cell_type": "code",
   "execution_count": 40,
   "id": "e7dad931",
   "metadata": {},
   "outputs": [],
   "source": [
    "model = Sequential()"
   ]
  },
  {
   "cell_type": "code",
   "execution_count": 41,
   "id": "0baf27a9",
   "metadata": {
    "scrolled": true
   },
   "outputs": [
    {
     "name": "stdout",
     "output_type": "stream",
     "text": [
      "Model: \"sequential_1\"\n",
      "_________________________________________________________________\n",
      " Layer (type)                Output Shape              Param #   \n",
      "=================================================================\n",
      " input (Dense)               (None, 128)               512       \n",
      "                                                                 \n",
      " layer_1 (Dense)             (None, 64)                8256      \n",
      "                                                                 \n",
      " output (Dense)              (None, 1)                 65        \n",
      "                                                                 \n",
      "=================================================================\n",
      "Total params: 8,833\n",
      "Trainable params: 8,833\n",
      "Non-trainable params: 0\n",
      "_________________________________________________________________\n"
     ]
    }
   ],
   "source": [
    "model.add(Dense(128,input_shape=(3,),activation='relu',name='input'))\n",
    "model.add(Dense(64,activation='relu',name='layer_1'))\n",
    "model.add(Dense(1,activation='linear',name='output'))\n",
    "model.compile(optimizer='adam', loss='mse', metrics=['mae'])\n",
    "model.summary()"
   ]
  },
  {
   "cell_type": "code",
   "execution_count": 42,
   "id": "4b51358b",
   "metadata": {
    "scrolled": false
   },
   "outputs": [
    {
     "name": "stdout",
     "output_type": "stream",
     "text": [
      "Epoch 1/100\n",
      "12/12 [==============================] - 1s 12ms/step - loss: 527.9463 - mae: 21.3434 - val_loss: 696.0701 - val_mae: 23.6465\n",
      "Epoch 2/100\n",
      "12/12 [==============================] - 0s 3ms/step - loss: 487.1362 - mae: 20.4085 - val_loss: 646.9800 - val_mae: 22.5284\n",
      "Epoch 3/100\n",
      "12/12 [==============================] - 0s 2ms/step - loss: 436.5184 - mae: 19.1635 - val_loss: 580.4915 - val_mae: 20.9406\n",
      "Epoch 4/100\n",
      "12/12 [==============================] - 0s 3ms/step - loss: 366.2299 - mae: 17.3224 - val_loss: 491.6040 - val_mae: 18.8557\n",
      "Epoch 5/100\n",
      "12/12 [==============================] - 0s 3ms/step - loss: 275.1522 - mae: 14.8295 - val_loss: 386.9529 - val_mae: 16.2835\n",
      "Epoch 6/100\n",
      "12/12 [==============================] - 0s 3ms/step - loss: 176.7201 - mae: 11.7614 - val_loss: 280.9530 - val_mae: 13.1702\n",
      "Epoch 7/100\n",
      "12/12 [==============================] - 0s 3ms/step - loss: 94.5197 - mae: 8.4971 - val_loss: 195.9897 - val_mae: 10.6745\n",
      "Epoch 8/100\n",
      "12/12 [==============================] - 0s 3ms/step - loss: 52.4641 - mae: 6.0311 - val_loss: 144.1474 - val_mae: 8.7591\n",
      "Epoch 9/100\n",
      "12/12 [==============================] - 0s 3ms/step - loss: 39.4850 - mae: 4.9073 - val_loss: 120.1426 - val_mae: 7.7029\n",
      "Epoch 10/100\n",
      "12/12 [==============================] - 0s 3ms/step - loss: 33.8441 - mae: 4.4382 - val_loss: 109.2755 - val_mae: 7.3824\n",
      "Epoch 11/100\n",
      "12/12 [==============================] - 0s 3ms/step - loss: 29.5678 - mae: 4.0733 - val_loss: 103.7775 - val_mae: 7.2098\n",
      "Epoch 12/100\n",
      "12/12 [==============================] - 0s 2ms/step - loss: 27.1511 - mae: 3.8774 - val_loss: 98.7418 - val_mae: 7.0282\n",
      "Epoch 13/100\n",
      "12/12 [==============================] - 0s 3ms/step - loss: 25.3880 - mae: 3.7290 - val_loss: 93.5997 - val_mae: 6.8836\n",
      "Epoch 14/100\n",
      "12/12 [==============================] - 0s 2ms/step - loss: 24.3524 - mae: 3.6498 - val_loss: 91.9001 - val_mae: 6.8242\n",
      "Epoch 15/100\n",
      "12/12 [==============================] - 0s 2ms/step - loss: 23.4337 - mae: 3.5616 - val_loss: 89.0377 - val_mae: 6.7361\n",
      "Epoch 16/100\n",
      "12/12 [==============================] - 0s 3ms/step - loss: 22.7743 - mae: 3.4914 - val_loss: 87.7144 - val_mae: 6.6610\n",
      "Epoch 17/100\n",
      "12/12 [==============================] - 0s 3ms/step - loss: 22.0891 - mae: 3.4401 - val_loss: 87.7470 - val_mae: 6.6177\n",
      "Epoch 18/100\n",
      "12/12 [==============================] - 0s 3ms/step - loss: 21.4442 - mae: 3.3934 - val_loss: 86.8566 - val_mae: 6.5776\n",
      "Epoch 19/100\n",
      "12/12 [==============================] - 0s 3ms/step - loss: 21.1507 - mae: 3.3804 - val_loss: 84.5370 - val_mae: 6.5419\n",
      "Epoch 20/100\n",
      "12/12 [==============================] - 0s 2ms/step - loss: 20.7071 - mae: 3.3614 - val_loss: 87.6416 - val_mae: 6.5438\n",
      "Epoch 21/100\n",
      "12/12 [==============================] - 0s 2ms/step - loss: 20.0195 - mae: 3.2900 - val_loss: 86.4625 - val_mae: 6.4905\n",
      "Epoch 22/100\n",
      "12/12 [==============================] - 0s 2ms/step - loss: 19.6907 - mae: 3.2562 - val_loss: 87.1572 - val_mae: 6.4757\n",
      "Epoch 23/100\n",
      "12/12 [==============================] - 0s 3ms/step - loss: 19.1918 - mae: 3.2284 - val_loss: 84.7893 - val_mae: 6.3680\n",
      "Epoch 24/100\n",
      "12/12 [==============================] - 0s 3ms/step - loss: 18.8035 - mae: 3.1913 - val_loss: 85.2581 - val_mae: 6.3011\n",
      "Epoch 25/100\n",
      "12/12 [==============================] - 0s 3ms/step - loss: 18.3852 - mae: 3.1503 - val_loss: 85.0361 - val_mae: 6.2473\n",
      "Epoch 26/100\n",
      "12/12 [==============================] - 0s 3ms/step - loss: 18.0670 - mae: 3.1237 - val_loss: 83.7623 - val_mae: 6.1726\n",
      "Epoch 27/100\n",
      "12/12 [==============================] - 0s 3ms/step - loss: 17.7941 - mae: 3.1135 - val_loss: 83.3471 - val_mae: 6.1530\n",
      "Epoch 28/100\n",
      "12/12 [==============================] - 0s 3ms/step - loss: 17.7113 - mae: 3.0998 - val_loss: 85.7536 - val_mae: 6.1790\n",
      "Epoch 29/100\n",
      "12/12 [==============================] - 0s 3ms/step - loss: 17.2129 - mae: 3.0543 - val_loss: 83.2918 - val_mae: 6.0949\n",
      "Epoch 30/100\n",
      "12/12 [==============================] - 0s 3ms/step - loss: 16.9781 - mae: 3.0247 - val_loss: 82.2704 - val_mae: 6.0295\n",
      "Epoch 31/100\n",
      "12/12 [==============================] - 0s 3ms/step - loss: 16.7151 - mae: 3.0029 - val_loss: 82.0137 - val_mae: 5.9815\n",
      "Epoch 32/100\n",
      "12/12 [==============================] - 0s 3ms/step - loss: 16.4913 - mae: 2.9851 - val_loss: 82.3796 - val_mae: 5.9198\n",
      "Epoch 33/100\n",
      "12/12 [==============================] - 0s 3ms/step - loss: 16.3600 - mae: 2.9766 - val_loss: 82.1449 - val_mae: 5.8613\n",
      "Epoch 34/100\n",
      "12/12 [==============================] - 0s 3ms/step - loss: 16.1028 - mae: 2.9375 - val_loss: 81.9427 - val_mae: 5.8685\n",
      "Epoch 35/100\n",
      "12/12 [==============================] - 0s 3ms/step - loss: 16.0069 - mae: 2.9276 - val_loss: 82.4076 - val_mae: 5.8244\n",
      "Epoch 36/100\n",
      "12/12 [==============================] - 0s 3ms/step - loss: 15.7345 - mae: 2.9027 - val_loss: 81.2842 - val_mae: 5.7791\n",
      "Epoch 37/100\n",
      "12/12 [==============================] - 0s 2ms/step - loss: 15.6740 - mae: 2.8916 - val_loss: 81.6831 - val_mae: 5.7913\n",
      "Epoch 38/100\n",
      "12/12 [==============================] - 0s 2ms/step - loss: 15.4708 - mae: 2.8694 - val_loss: 81.8359 - val_mae: 5.7570\n",
      "Epoch 39/100\n",
      "12/12 [==============================] - 0s 3ms/step - loss: 15.3355 - mae: 2.8649 - val_loss: 80.9819 - val_mae: 5.7379\n",
      "Epoch 40/100\n",
      "12/12 [==============================] - 0s 2ms/step - loss: 15.1671 - mae: 2.8265 - val_loss: 83.0225 - val_mae: 5.7585\n",
      "Epoch 41/100\n",
      "12/12 [==============================] - 0s 3ms/step - loss: 15.0541 - mae: 2.8041 - val_loss: 81.3422 - val_mae: 5.6958\n",
      "Epoch 42/100\n",
      "12/12 [==============================] - 0s 3ms/step - loss: 15.0357 - mae: 2.8283 - val_loss: 80.1035 - val_mae: 5.6378\n",
      "Epoch 43/100\n",
      "12/12 [==============================] - 0s 3ms/step - loss: 14.9042 - mae: 2.8244 - val_loss: 82.1430 - val_mae: 5.6775\n",
      "Epoch 44/100\n",
      "12/12 [==============================] - 0s 3ms/step - loss: 14.7660 - mae: 2.8020 - val_loss: 82.2394 - val_mae: 5.6676\n",
      "Epoch 45/100\n",
      "12/12 [==============================] - 0s 3ms/step - loss: 14.7027 - mae: 2.8030 - val_loss: 85.9374 - val_mae: 5.8088\n",
      "Epoch 46/100\n",
      "12/12 [==============================] - 0s 3ms/step - loss: 14.6210 - mae: 2.7919 - val_loss: 83.0905 - val_mae: 5.7227\n",
      "Epoch 47/100\n",
      "12/12 [==============================] - 0s 3ms/step - loss: 14.4629 - mae: 2.7792 - val_loss: 80.8244 - val_mae: 5.6322\n",
      "Epoch 48/100\n",
      "12/12 [==============================] - 0s 3ms/step - loss: 14.3586 - mae: 2.7622 - val_loss: 81.3505 - val_mae: 5.6295\n",
      "Epoch 49/100\n",
      "12/12 [==============================] - 0s 3ms/step - loss: 14.3473 - mae: 2.7657 - val_loss: 81.4860 - val_mae: 5.6180\n",
      "Epoch 50/100\n",
      "12/12 [==============================] - 0s 3ms/step - loss: 14.2493 - mae: 2.7438 - val_loss: 83.7911 - val_mae: 5.6809\n",
      "Epoch 51/100\n",
      "12/12 [==============================] - 0s 2ms/step - loss: 14.2638 - mae: 2.7537 - val_loss: 85.7950 - val_mae: 5.7498\n",
      "Epoch 52/100\n",
      "12/12 [==============================] - 0s 2ms/step - loss: 14.1431 - mae: 2.7732 - val_loss: 81.6302 - val_mae: 5.6571\n",
      "Epoch 53/100\n",
      "12/12 [==============================] - 0s 3ms/step - loss: 14.1303 - mae: 2.7727 - val_loss: 80.7598 - val_mae: 5.6241\n",
      "Epoch 54/100\n",
      "12/12 [==============================] - 0s 3ms/step - loss: 13.9482 - mae: 2.7091 - val_loss: 83.7704 - val_mae: 5.6562\n",
      "Epoch 55/100\n",
      "12/12 [==============================] - 0s 3ms/step - loss: 13.8891 - mae: 2.6961 - val_loss: 79.0322 - val_mae: 5.5132\n",
      "Epoch 56/100\n",
      "12/12 [==============================] - 0s 3ms/step - loss: 13.7962 - mae: 2.7069 - val_loss: 79.6877 - val_mae: 5.4952\n",
      "Epoch 57/100\n",
      "12/12 [==============================] - 0s 3ms/step - loss: 13.6693 - mae: 2.6723 - val_loss: 82.4542 - val_mae: 5.5394\n",
      "Epoch 58/100\n",
      "12/12 [==============================] - 0s 3ms/step - loss: 13.6142 - mae: 2.6702 - val_loss: 79.8244 - val_mae: 5.4772\n",
      "Epoch 59/100\n",
      "12/12 [==============================] - 0s 2ms/step - loss: 13.4643 - mae: 2.6462 - val_loss: 83.0933 - val_mae: 5.5210\n",
      "Epoch 60/100\n",
      "12/12 [==============================] - 0s 2ms/step - loss: 13.4375 - mae: 2.6409 - val_loss: 81.3141 - val_mae: 5.4867\n",
      "Epoch 61/100\n",
      "12/12 [==============================] - 0s 3ms/step - loss: 13.3051 - mae: 2.6241 - val_loss: 79.1570 - val_mae: 5.4144\n"
     ]
    },
    {
     "name": "stdout",
     "output_type": "stream",
     "text": [
      "Epoch 62/100\n",
      "12/12 [==============================] - 0s 3ms/step - loss: 13.2686 - mae: 2.6259 - val_loss: 80.5268 - val_mae: 5.4590\n",
      "Epoch 63/100\n",
      "12/12 [==============================] - 0s 3ms/step - loss: 13.2043 - mae: 2.6018 - val_loss: 81.0511 - val_mae: 5.4224\n",
      "Epoch 64/100\n",
      "12/12 [==============================] - 0s 3ms/step - loss: 13.2444 - mae: 2.6139 - val_loss: 82.8336 - val_mae: 5.4711\n",
      "Epoch 65/100\n",
      "12/12 [==============================] - 0s 3ms/step - loss: 12.9948 - mae: 2.5914 - val_loss: 80.1579 - val_mae: 5.3950\n",
      "Epoch 66/100\n",
      "12/12 [==============================] - 0s 2ms/step - loss: 13.0063 - mae: 2.5915 - val_loss: 84.9741 - val_mae: 5.5725\n",
      "Epoch 67/100\n",
      "12/12 [==============================] - 0s 2ms/step - loss: 12.7984 - mae: 2.6015 - val_loss: 81.0457 - val_mae: 5.4683\n",
      "Epoch 68/100\n",
      "12/12 [==============================] - 0s 2ms/step - loss: 12.8066 - mae: 2.6023 - val_loss: 81.1617 - val_mae: 5.4349\n",
      "Epoch 69/100\n",
      "12/12 [==============================] - 0s 3ms/step - loss: 12.6253 - mae: 2.5769 - val_loss: 81.3789 - val_mae: 5.4184\n",
      "Epoch 70/100\n",
      "12/12 [==============================] - 0s 3ms/step - loss: 12.6541 - mae: 2.5756 - val_loss: 80.6551 - val_mae: 5.3764\n",
      "Epoch 71/100\n",
      "12/12 [==============================] - 0s 3ms/step - loss: 12.4902 - mae: 2.5564 - val_loss: 80.8499 - val_mae: 5.3674\n",
      "Epoch 72/100\n",
      "12/12 [==============================] - 0s 3ms/step - loss: 12.6212 - mae: 2.5731 - val_loss: 82.3059 - val_mae: 5.4039\n",
      "Epoch 73/100\n",
      "12/12 [==============================] - 0s 2ms/step - loss: 12.3889 - mae: 2.5357 - val_loss: 79.9552 - val_mae: 5.3185\n",
      "Epoch 74/100\n",
      "12/12 [==============================] - 0s 3ms/step - loss: 12.2958 - mae: 2.5248 - val_loss: 80.9365 - val_mae: 5.3261\n",
      "Epoch 75/100\n",
      "12/12 [==============================] - 0s 3ms/step - loss: 12.2077 - mae: 2.5196 - val_loss: 81.0639 - val_mae: 5.3126\n",
      "Epoch 76/100\n",
      "12/12 [==============================] - 0s 3ms/step - loss: 12.1286 - mae: 2.5118 - val_loss: 81.2164 - val_mae: 5.3090\n",
      "Epoch 77/100\n",
      "12/12 [==============================] - 0s 3ms/step - loss: 12.0650 - mae: 2.5132 - val_loss: 81.6949 - val_mae: 5.3066\n",
      "Epoch 78/100\n",
      "12/12 [==============================] - 0s 3ms/step - loss: 12.0489 - mae: 2.5025 - val_loss: 81.8373 - val_mae: 5.3065\n",
      "Epoch 79/100\n",
      "12/12 [==============================] - 0s 3ms/step - loss: 11.9445 - mae: 2.4867 - val_loss: 81.8040 - val_mae: 5.2776\n",
      "Epoch 80/100\n",
      "12/12 [==============================] - 0s 3ms/step - loss: 12.1994 - mae: 2.5461 - val_loss: 81.8190 - val_mae: 5.3068\n",
      "Epoch 81/100\n",
      "12/12 [==============================] - 0s 3ms/step - loss: 12.0513 - mae: 2.5124 - val_loss: 79.9371 - val_mae: 5.2236\n",
      "Epoch 82/100\n",
      "12/12 [==============================] - 0s 3ms/step - loss: 11.7700 - mae: 2.4799 - val_loss: 84.0435 - val_mae: 5.3151\n",
      "Epoch 83/100\n",
      "12/12 [==============================] - 0s 3ms/step - loss: 11.7428 - mae: 2.4769 - val_loss: 81.8450 - val_mae: 5.2394\n",
      "Epoch 84/100\n",
      "12/12 [==============================] - 0s 3ms/step - loss: 11.6978 - mae: 2.4709 - val_loss: 82.7864 - val_mae: 5.2509\n",
      "Epoch 85/100\n",
      "12/12 [==============================] - 0s 2ms/step - loss: 11.6034 - mae: 2.4542 - val_loss: 82.3216 - val_mae: 5.2373\n",
      "Epoch 86/100\n",
      "12/12 [==============================] - 0s 2ms/step - loss: 11.6841 - mae: 2.4810 - val_loss: 82.0053 - val_mae: 5.2589\n",
      "Epoch 87/100\n",
      "12/12 [==============================] - 0s 2ms/step - loss: 11.5086 - mae: 2.4559 - val_loss: 80.9976 - val_mae: 5.1968\n",
      "Epoch 88/100\n",
      "12/12 [==============================] - 0s 2ms/step - loss: 11.4830 - mae: 2.4441 - val_loss: 80.7649 - val_mae: 5.1925\n",
      "Epoch 89/100\n",
      "12/12 [==============================] - 0s 3ms/step - loss: 11.4253 - mae: 2.4358 - val_loss: 82.8999 - val_mae: 5.2256\n",
      "Epoch 90/100\n",
      "12/12 [==============================] - 0s 3ms/step - loss: 11.4807 - mae: 2.4535 - val_loss: 83.7375 - val_mae: 5.2642\n",
      "Epoch 91/100\n",
      "12/12 [==============================] - 0s 3ms/step - loss: 11.2665 - mae: 2.4306 - val_loss: 80.2068 - val_mae: 5.1419\n",
      "Epoch 92/100\n",
      "12/12 [==============================] - 0s 3ms/step - loss: 11.3906 - mae: 2.4433 - val_loss: 82.3825 - val_mae: 5.1831\n",
      "Epoch 93/100\n",
      "12/12 [==============================] - 0s 3ms/step - loss: 11.2365 - mae: 2.4194 - val_loss: 82.3904 - val_mae: 5.1755\n",
      "Epoch 94/100\n",
      "12/12 [==============================] - 0s 3ms/step - loss: 11.1989 - mae: 2.4171 - val_loss: 83.1867 - val_mae: 5.2486\n",
      "Epoch 95/100\n",
      "12/12 [==============================] - 0s 3ms/step - loss: 11.1518 - mae: 2.4133 - val_loss: 81.5852 - val_mae: 5.1871\n",
      "Epoch 96/100\n",
      "12/12 [==============================] - 0s 3ms/step - loss: 11.0955 - mae: 2.4036 - val_loss: 82.2814 - val_mae: 5.2200\n",
      "Epoch 97/100\n",
      "12/12 [==============================] - 0s 3ms/step - loss: 11.0568 - mae: 2.4017 - val_loss: 83.0497 - val_mae: 5.1984\n",
      "Epoch 98/100\n",
      "12/12 [==============================] - 0s 2ms/step - loss: 11.0575 - mae: 2.3955 - val_loss: 82.6089 - val_mae: 5.2061\n",
      "Epoch 99/100\n",
      "12/12 [==============================] - 0s 2ms/step - loss: 11.1019 - mae: 2.4205 - val_loss: 82.7690 - val_mae: 5.2103\n",
      "Epoch 100/100\n",
      "12/12 [==============================] - 0s 3ms/step - loss: 11.1472 - mae: 2.4148 - val_loss: 81.3406 - val_mae: 5.1370\n"
     ]
    },
    {
     "data": {
      "text/plain": [
       "<keras.callbacks.History at 0x7f667052bfa0>"
      ]
     },
     "execution_count": 42,
     "metadata": {},
     "output_type": "execute_result"
    }
   ],
   "source": [
    "model.fit(x_train,y_train,epochs=100,validation_split=0.05)"
   ]
  },
  {
   "cell_type": "code",
   "execution_count": 43,
   "id": "e2afb08a",
   "metadata": {},
   "outputs": [
    {
     "name": "stdout",
     "output_type": "stream",
     "text": [
      "4/4 [==============================] - 0s 1ms/step - loss: 22.7018 - mae: 3.1161\n"
     ]
    }
   ],
   "source": [
    "output = model.evaluate(x_test,y_test)"
   ]
  },
  {
   "cell_type": "code",
   "execution_count": 44,
   "id": "b7bf34bd",
   "metadata": {},
   "outputs": [
    {
     "name": "stdout",
     "output_type": "stream",
     "text": [
      "Mean Squared Error: 22.70177459716797\n",
      "Mean Absolute Error: 3.1161367893218994\n"
     ]
    }
   ],
   "source": [
    "print(f\"Mean Squared Error: {output[0]}\"\n",
    "      ,f\"Mean Absolute Error: {output[1]}\",sep=\"\\n\")"
   ]
  },
  {
   "cell_type": "code",
   "execution_count": 45,
   "id": "85333e40",
   "metadata": {},
   "outputs": [
    {
     "name": "stdout",
     "output_type": "stream",
     "text": [
      "4/4 [==============================] - 0s 3ms/step\n"
     ]
    }
   ],
   "source": [
    "y_pred = model.predict(x=x_test)"
   ]
  },
  {
   "cell_type": "code",
   "execution_count": 46,
   "id": "4be4c127",
   "metadata": {},
   "outputs": [
    {
     "name": "stdout",
     "output_type": "stream",
     "text": [
      "(array([25.326637], dtype=float32), 28.4) (array([30.812267], dtype=float32), 31.1) (array([26.25681], dtype=float32), 23.5) (array([28.208357], dtype=float32), 26.6) (array([19.116707], dtype=float32), 19.6) (array([16.953617], dtype=float32), 14.3) (array([42.137882], dtype=float32), 50.0) (array([14.562979], dtype=float32), 14.3) (array([19.744122], dtype=float32), 20.7) (array([43.466663], dtype=float32), 37.6) (array([17.756025], dtype=float32), 20.4) (array([27.114046], dtype=float32), 27.5) (array([22.5065], dtype=float32), 36.2) (array([32.867413], dtype=float32), 32.0) (array([31.563795], dtype=float32), 33.1) (array([52.6807], dtype=float32), 48.8) (array([25.997906], dtype=float32), 24.6) (array([19.153355], dtype=float32), 26.4) (array([21.27835], dtype=float32), 23.2) (array([20.296463], dtype=float32), 17.0) (array([33.501163], dtype=float32), 41.3) (array([15.604509], dtype=float32), 14.9) (array([22.470581], dtype=float32), 18.5) (array([24.985226], dtype=float32), 25.0) (array([36.99737], dtype=float32), 36.4) (array([20.788815], dtype=float32), 19.5) (array([19.1058], dtype=float32), 27.1) (array([16.74152], dtype=float32), 14.9) (array([43.021816], dtype=float32), 46.0) (array([11.279345], dtype=float32), 17.9) (array([35.51642], dtype=float32), 30.3) (array([32.590176], dtype=float32), 31.6) (array([26.88331], dtype=float32), 23.1) (array([24.157475], dtype=float32), 24.7) (array([15.188023], dtype=float32), 16.7) (array([19.123184], dtype=float32), 18.3) (array([8.165555], dtype=float32), 8.4) (array([32.895214], dtype=float32), 37.3) (array([24.823246], dtype=float32), 22.1) (array([24.688074], dtype=float32), 22.0) (array([39.28459], dtype=float32), 46.7) (array([26.622578], dtype=float32), 30.1) (array([13.651617], dtype=float32), 12.1) (array([29.37056], dtype=float32), 29.1) (array([17.026884], dtype=float32), 16.6) (array([27.706491], dtype=float32), 23.9) (array([18.098938], dtype=float32), 19.9) (array([18.715809], dtype=float32), 21.4) (array([44.698994], dtype=float32), 45.4) (array([16.062193], dtype=float32), 15.6) (array([20.307453], dtype=float32), 22.7) (array([14.402477], dtype=float32), 12.5) (array([20.368322], dtype=float32), 24.3) (array([39.90341], dtype=float32), 43.8) (array([24.814518], dtype=float32), 22.0) (array([35.632404], dtype=float32), 33.8) (array([19.165703], dtype=float32), 19.3) (array([18.983414], dtype=float32), 22.6) (array([20.867258], dtype=float32), 16.1) (array([22.648659], dtype=float32), 15.0) (array([18.727892], dtype=float32), 19.6) (array([21.086636], dtype=float32), 21.2) (array([51.950222], dtype=float32), 50.0) (array([56.89272], dtype=float32), 50.0) (array([27.949654], dtype=float32), 29.4) (array([14.684164], dtype=float32), 17.8) (array([24.77907], dtype=float32), 22.8) (array([12.873341], dtype=float32), 8.8) (array([27.837948], dtype=float32), 32.5) (array([40.93957], dtype=float32), 42.8) (array([16.60129], dtype=float32), 12.6) (array([28.373886], dtype=float32), 28.6) (array([17.59235], dtype=float32), 19.1) (array([21.339802], dtype=float32), 50.0) (array([21.937038], dtype=float32), 27.5) (array([11.721819], dtype=float32), 23.7) (array([49.468605], dtype=float32), 50.0) (array([9.985614], dtype=float32), 7.2) (array([19.216202], dtype=float32), 18.7) (array([32.74043], dtype=float32), 37.0) (array([20.275549], dtype=float32), 22.9) (array([25.34641], dtype=float32), 22.9) (array([19.294083], dtype=float32), 17.1) (array([24.906483], dtype=float32), 22.0) (array([31.76501], dtype=float32), 23.6) (array([26.627583], dtype=float32), 23.9) (array([26.162498], dtype=float32), 27.1) (array([34.477444], dtype=float32), 29.0) (array([24.098446], dtype=float32), 22.2) (array([11.195724], dtype=float32), 7.0) (array([23.15632], dtype=float32), 20.7) (array([20.334045], dtype=float32), 18.5) (array([24.189882], dtype=float32), 21.6) (array([24.488302], dtype=float32), 23.0) (array([18.379852], dtype=float32), 16.0) (array([20.087112], dtype=float32), 15.0) (array([25.98979], dtype=float32), 23.9) (array([19.314072], dtype=float32), 24.4) (array([20.938562], dtype=float32), 22.6) (array([18.91896], dtype=float32), 19.8) (array([22.20668], dtype=float32), 22.2) (array([19.92186], dtype=float32), 18.6) (array([19.308681], dtype=float32), 19.7) (array([24.391409], dtype=float32), 23.1) (array([13.272024], dtype=float32), 13.5) (array([20.999117], dtype=float32), 21.2) (array([18.461716], dtype=float32), 23.1) (array([15.227896], dtype=float32), 13.6) (array([29.157871], dtype=float32), 22.8) (array([22.677673], dtype=float32), 18.2) (array([11.3301735], dtype=float32), 13.1) (array([18.12273], dtype=float32), 23.2) (array([25.357924], dtype=float32), 22.8) (array([25.216068], dtype=float32), 25.1) (array([21.507614], dtype=float32), 18.9) (array([13.394751], dtype=float32), 10.9) (array([13.565663], dtype=float32), 19.3) (array([20.038435], dtype=float32), 17.4) (array([18.2937], dtype=float32), 15.6) (array([19.810736], dtype=float32), 20.6) (array([30.7675], dtype=float32), 50.0) (array([35.622948], dtype=float32), 32.7) (array([20.584791], dtype=float32), 21.8) (array([15.316029], dtype=float32), 13.4) (array([17.085857], dtype=float32), 16.6) (array([23.89748], dtype=float32), 23.6) (array([12.590122], dtype=float32), 11.0)\n"
     ]
    }
   ],
   "source": [
    "print(*zip(y_pred,y_test))"
   ]
  },
  {
   "cell_type": "code",
   "execution_count": 47,
   "id": "fbaee296",
   "metadata": {},
   "outputs": [
    {
     "name": "stdout",
     "output_type": "stream",
     "text": [
      "4/4 [==============================] - 0s 1ms/step\n"
     ]
    },
    {
     "data": {
      "text/plain": [
       "[<matplotlib.lines.Line2D at 0x7f66605e4ca0>]"
      ]
     },
     "execution_count": 47,
     "metadata": {},
     "output_type": "execute_result"
    },
    {
     "data": {
      "image/png": "[encoded data removed]",
      "text/plain": [
       "<Figure size 640x480 with 1 Axes>"
      ]
     },
     "metadata": {},
     "output_type": "display_data"
    }
   ],
   "source": [
    "y_pred = model.predict(x_test).flatten()\n",
    "a = plt.axes(aspect='equal')\n",
    "plt.scatter(y_test, y_pred)\n",
    "plt.xlabel('True values')\n",
    "plt.ylabel('Predicted values')\n",
    "plt.title('A plot that shows the true and predicted values')\n",
    "plt.xlim([0, 60])\n",
    "plt.ylim([0, 60])\n",
    "plt.plot([0, 60], [0, 60])"
   ]
  },
  {
   "cell_type": "code",
   "execution_count": null,
   "id": "ddb065a8",
   "metadata": {},
   "outputs": [],
   "source": []
  }
 ],
 "metadata": {
  "kernelspec": {
   "display_name": "Python 3 (ipykernel)",
   "language": "python",
   "name": "python3"
  },
  "language_info": {
   "codemirror_mode": {
    "name": "ipython",
    "version": 3
   },
   "file_extension": ".py",
   "mimetype": "text/x-python",
   "name": "python",
   "nbconvert_exporter": "python",
   "pygments_lexer": "ipython3",
   "version": "3.10.6"
  }
 },
 "nbformat": 4,
 "nbformat_minor": 5
}
